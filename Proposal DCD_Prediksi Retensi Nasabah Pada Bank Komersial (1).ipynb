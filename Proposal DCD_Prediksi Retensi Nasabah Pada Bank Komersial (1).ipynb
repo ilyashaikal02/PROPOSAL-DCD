{
 "cells": [
  {
   "cell_type": "markdown",
   "metadata": {},
   "source": [
    "# PROPOSAL DCD"
   ]
  },
  {
   "cell_type": "markdown",
   "metadata": {},
   "source": [
    "## Prediksi Retensi Nasabah Pada Bank Komersial"
   ]
  },
  {
   "cell_type": "markdown",
   "metadata": {},
   "source": [
    "<div>\n",
    "<img src=\"Churn.png\" width=\"800\"/>\n",
    "</div>"
   ]
  },
  {
   "cell_type": "markdown",
   "metadata": {},
   "source": [
    "### 1 Background"
   ]
  },
  {
   "cell_type": "markdown",
   "metadata": {},
   "source": [
    "Retensi nasabah adalah salah satu faktor terpenting bagi kesuksesan bank komersial. Ketika nasabah tetap tinggal, mereka terus menghasilkan pendapatan bagi bank, dan mereka juga lebih mungkin untuk merekomendasikan bank kepada orang lain. Namun, retensi nasabah bisa menjadi sebuah tantangan, karena ada banyak alasan mengapa nasabah mungkin memutuskan untuk beralih/ churn ke bank lain.\n",
    "\n",
    "Salah satu alasan paling umum untuk churn adalah biaya. Nasabah yang merasa bahwa mereka tidak mendapatkan nilai yang baik dari bank mereka lebih mungkin untuk beralih ke bank lain yang menawarkan tarif yang lebih rendah atau layanan yang lebih baik. Alasan lain untuk churn termasuk layanan pelanggan yang buruk, kurangnya pilihan produk, dan kurangnya kenyamanan.\n",
    "\n",
    "Bank komersial dapat menggunakan teknik Machine Learning untuk memprediksi tingkat churn. Dengan memprediksi churn, bank dapat mengambil tindakan untuk mencegahnya terjadi. Misalnya, bank dapat menghubungi nasabah yang berisiko churn dan menawarkan mereka diskon atau layanan baru.\n",
    "\n",
    "Sebuah studi oleh Gartner menemukan bahwa bank komersial yang menggunakan machine learning untuk memprediksi churn dapat menghemat hingga 10% dari pendapatan mereka. Studi lain oleh McKinsey menemukan bahwa bank komersial yang menggunakan machine learning untuk meningkatkan layanan pelanggan dapat meningkatkan retensi nasabah hingga 20%.\n",
    "\n",
    "Project DCD ini akan mengembangkan model prediksi yang dapat digunakan untuk memprediksi tingkat churn di bank komersial. Model prediksi akan menggunakan data catatan transaksi harian dari bank komersial untuk melatih model machine learning . Model ini kemudian akan digunakan untuk memprediksi tingkat churn untuk nasabah baru dan nasabah yang ada. Model prediksi akan memiliki beberapa implikasi bisnis yang penting. Pertama, model prediksi dapat digunakan untuk menargetkan nasabah dengan tepat dan efisien yang cenderung churn. Ini dapat menghemat bank banyak uang dalam biaya pemasaran dan retensi. Kedua, model prediksi dapat digunakan untuk meningkatkan layanan pelanggan. Dengan mengidentifikasi nasabah yang paling berisiko untuk pergi, bank dapat mengambil tindakan pencegahan untuk meningkatkan kepuasan mereka.\n",
    "\n",
    "Diharapkan model prediksi yang dikembangkan dalam project DCD ini akan dapat memprediksi tingkat churn dengan akurasi yang tinggi. Model prediksi ini akan dapat digunakan oleh bank komersial untuk mengambil tindakan untuk mencegah churn, yang dapat menghemat mereka banyak uang dan meningkatkan kepuasan nasabah mereka.\n",
    "\n",
    "Referensi\n",
    "- Gartner (2019). \"Banks Can Save $10 Billion by Using Machine Learning to Predict Churn.\"\n",
    "- McKinsey (2018). \"Banks Can Improve Customer Service and Retention with Machine Learning.\"\n",
    "\n"
   ]
  },
  {
   "cell_type": "markdown",
   "metadata": {},
   "source": [
    "### 2 Problem Statement\n",
    "Bank komersial menghadapi tantangan dalam mempertahankan nasabah. Tingkat churn yang tinggi dapat menyebabkan hilangnya pendapatan, kepuasan pelanggan yang rendah, dan meningkatnya biaya pemasaran dan retensi."
   ]
  },
  {
   "cell_type": "markdown",
   "metadata": {},
   "source": [
    "### 3 Problem Scope\n",
    "Data berasal dari Xiamen International Bank, sebuah bank komersial utama di China.Data yang digunakan merupakan data catatan transaksi harian pada kuartal ketiga dan keempat  tahun 2019. terdiri dari 465,441 baris  and 55 feature mencangkup informasi aset nasabah pada setiap akhir bulan, perilaku nasabah seperti jumlah transfer ataupun tanggal/waktu transfer terakhir , tanggal/waktu pinjaman pertama kali, tanggal jatuh tempo, deposito nasabah tiap bulan, serta data pribadi nasabah seperti jenis kelamin, usia, pekerjaan, tingkat pendidikan, dan sebagainya.\n",
    "\n",
    "Untuk model machine Learning sendiri akan dibuat sebuah model klasifikasi dengan memanfaatkan algoritma Logistic Regression, Random Forest Classifier Decision Tree dan Neural Network.\n"
   ]
  },
  {
   "cell_type": "markdown",
   "metadata": {},
   "source": [
    "### 4 Project Idea\n",
    "ide dari project ini adalah untuk mengembangkan model prediksi churn yang akurat dan reliabel untuk bank komersial. Model prediksi ini akan menggunakan data catatan transaksi harian nasabah dari bank komersial untuk melatih model machine learning. Model ini kemudian akan digunakan untuk memprediksi tingkat churn untuk nasabah baru dan nasabah yang ada dengan tingkat akurasi yang tinggi."
   ]
  },
  {
   "cell_type": "markdown",
   "metadata": {},
   "source": [
    "### 5 Output\n",
    "- Model Prediksi Churn: Output utama dari projek ini adalah model prediksi churn yang akurat. Model ini akan dihasilkan melalui pelatihan/train pada data historis  dan  mampu memprediksi apakah klien baru atau yang ada memiliki potensi untuk Churn/beralih ke bank lain dalam waktu tertentu.\n",
    "- Skor Risiko Churn: Model ini akan memberikan peringatan atau skor risiko churn untuk setiap klien. Ini akan membantu bank mengidentifikasi klien yang paling berisiko dan memprioritaskan tindakan pencegahan.\n",
    "- Rekomendasi Tindakan/treatment:  Model akan memberikan rekomendasi tindakan spesifik yang dapat diambil oleh bank. Misalnya, bank dapat menawarkan diskon, layanan khusus, atau pelayanan yang lebih baik kepada klien dengan risiko churn tinggi.\n",
    "- Dashboard Monitoring: Saya akan membuat Sebuah dashboard  untuk memvisualisasikan hasil prediksi dan analisis. Hal ini akan membantu untuk melacak tren churn, melihat performa model, dan mengambil keputusan berdasarkan informasi yang diberikan. (Dashboard pada slide pertama menampilakan EDA :  payment method yang paling banyak digunakan, top 3 pekerjaan, kelas nasabah, rata-rata jumlah transfer setiap bulan, rata-rata saldo deposit, giro setiap bulannya, Rata-rata jumlah transfer masuk atau keluar, rata-rata jumlah transfer setiap quartalnya, dan lain-lain. Pada slide ke-2 menampilkan prediksi Machine learning,User memasukan customer info secara otomatis menampilkan prediksi customer tersebut terindikasi churn/not churn dari 3 machine learning yang digunakan dalam project ini).\n",
    "\n",
    "- Analisis Dampak Bisnis: Proyek ini juga akan menghasilkan analisis dampak bisnis yang meliputi penghematan potensial dalam biaya pemasaran dan peningkatan retensi nasabah. Ini akan membantu bank mengukur nilai dari implementasi model prediksi churn.\n"
   ]
  },
  {
   "cell_type": "markdown",
   "metadata": {},
   "source": [
    "### 6 Business Impact\n",
    "\n",
    "Project ini  memiliki sejumlah implikasi bisnis yang penting. Pertama, model prediksi dapat digunakan untuk menargetkan nasabah dengan tepat dan efisien yang cenderung churn. Ini dapat menghemat bank banyak uang dalam biaya pemasaran dan retensi. Kedua, model prediksi dapat digunakan untuk meningkatkan layanan pelanggan. Dengan mengidentifikasi nasabah yang paling berisiko untuk pergi, bank dapat mengambil tindakan pencegahan untuk meningkatkan kepuasan mereka.\n",
    "\n",
    "Secara keseluruhan, project ini diharapkan dapat membantu bank komersial menghemat uang dan meningkatkan kepuasan nasabah mereka. Berikut adalah beberapa implikasi bisnis spesifik yang dapat ditawarkan oleh projek ini:\n",
    "- Penghematan biaya: Model prediksi dapat digunakan untuk mengidentifikasi nasabah yang paling berisiko untuk churn. Dengan mengidentifikasi nasabah ini, bank dapat mengambil tindakan pencegahan untuk mencegah mereka pergi, yang dapat menghemat bank banyak uang dalam biaya pemasaran dan retensi.\n",
    "- Peningkatan kepuasan pelanggan: Model prediksi dapat digunakan untuk mengidentifikasi nasabah yang paling tidak puas dengan bank mereka. Dengan mengidentifikasi nasabah ini, bank dapat mengambil tindakan untuk meningkatkan kepuasan mereka, yang dapat mengarah pada peningkatan retensi. \n",
    "- Peningkatan pendapatan: Dengan meningkatkan retensi nasabah, bank dapat meningkatkan pendapatan mereka. Ini karena klien yang loyal lebih cenderung tetap bersama bank, menggunakan lebih banyak produk dan layanan bank, dan merekomendasikan bank kepada orang lain. \n",
    "- Peningkatan Efisiensi Operasional: Dengan memanfaatkan teknik Machine Learning untuk memprediksi churn, bank dapat mengidentifikasi area bisnis atau proses yang perlu ditingkatkan. Dengan demikian, bank dapat melakukan perbaikan operasional yang akan membantu dalam mengurangi faktor-faktor yang memicu churn dan meningkatkan efisiensi secara keseluruhan.\n"
   ]
  },
  {
   "cell_type": "markdown",
   "metadata": {},
   "source": [
    "## Script \n",
    "1. **Data Preprocess**\n",
    "2. **Data Processing**\n",
    "3. **Exploratory Data Analysis (EDA)**"
   ]
  },
  {
   "cell_type": "markdown",
   "metadata": {},
   "source": [
    "## Data Preprocess"
   ]
  },
  {
   "cell_type": "markdown",
   "metadata": {},
   "source": [
    "### Deskripsi \n",
    "\n",
    "Pada Script ini kita akan memproses data mentah yang berasal dari Xiamen International Banking . terdapat 3 data utama, yaitu:\n",
    "\n",
    "- `x_train`:  data training/pelatihan yang berisi semua feature \n",
    "- `y_train`: data pengujian yang berisi label Prediksi \n",
    "- `x_test`: data training/pelatihan untuk prediksi. Mengandung Feature yang sama seperti x_train\n",
    "\n",
    "### Procedures\n",
    "\n",
    "Kami memulai dengan memeriksa y_train karena di dalamnya terdapat label yang dapat me-validasi prediksi model. y_train berisi data label yang diambil secara acak dari dua kuartal: Q3_2019 dan Q4_2019. Karena kolom ID pelanggan, cust_no, hanya berisi nilai-nilai unik, kami menetapkan strategi pengolahan data sebagai berikut:\n",
    "\n",
    "\n",
    "1. Kami menggunakan **kuartal** untuk memisahkan prosedur pengolahan data. Kami membuat dua set data Training, `X_train_Q3` dan `X_train_Q4`, lalu menggabungkannya sebelum menerapkan model. Dengan cara ini, kami menghindari ID nasabah yang terduplikasi dalam kedua set `y_train` akibat dari pengambilan sampel acak. Hal ini memungkinkan kami untuk memaksimalkan jumlah label yang dapat divalidasi.\n",
    "\n",
    "- y_Q3_3 berisi 69126 baris, y_Q4_3 berisi 76170 baris.\n",
    "- y_train memiliki 62397 ID nasabah yang terduplikasi.\n",
    "- y_train memiliki 40090 catatan yang benar-benar identik (sama ID nasabah, sama label).\n",
    "- Dua sampel sangat tumpang tindih.\n",
    "- 22307 nasabah mengubah preferensi pemutusan hubungan mereka dari Q3 ke Q4.\n",
    "\n",
    "2. Berdasarkan set `y_train` yang dipisahkan per kuartal, kami menggabungkan data mentah `X_train` sesuai dengan kuartalnya. Untuk setiap kuartal, kami menghapus ID nasabah yang terduplikasi kecuali untuk kejadian terakhir.\n",
    "\n",
    "3. Selama preprocessing data, kami memeriksa catatan di kolom cust_avli dari set `X_train`. Set ini berisi ID dari semua nasabah yang efektif. Kami mengkonfirmasi bahwa ID ini sama dengan yang ada di set `y_train`. Oleh karena itu, kami memotong dataset berdasarkan kolom cust_no di cust_avli, dipisahkan berdasarkan kuartal.\n",
    "\n",
    "\n",
    "   - Telah dikonfirmasi bahwa cust_avli adalah kolom Key indexs column \n",
    "    \n",
    "4. Merged dan Trimmed dataset, disimpan ke `../data/preprocess`.\n",
    "\n",
    "### Trimmed/Pemangkasan Data\n",
    "\n",
    "Setelah preprocessing, kita memiliki tiga set :\n",
    "1. `X`: mengandung 145296 baris dan 55 features.\n",
    "\n",
    "2. `y`: mengandung 145296 baris dan 1 label kolom.\n",
    "\n",
    "3. `X_true`: test set, mengandung 76722 baris and 55 features."
   ]
  },
  {
   "cell_type": "code",
   "execution_count": 15,
   "metadata": {
    "scrolled": true
   },
   "outputs": [],
   "source": [
    "# impoert library\n",
    "import pandas as pd\n",
    "import numpy as np\n",
    "import csv\n",
    "import glob\n",
    "import re\n",
    "import os"
   ]
  },
  {
   "cell_type": "code",
   "execution_count": 16,
   "metadata": {},
   "outputs": [],
   "source": [
    "def merge_file(path):\n",
    "    '''Concatenate files from path\n",
    "    Param: path: file path from which data are imported and concatenated\n",
    "    '''\n",
    "    file_names = [name for name in glob.glob(path)]\n",
    "    df_temp = (pd.read_csv(file) for file in file_names)\n",
    "    return(pd.concat(df_temp, ignore_index=True, axis='index'))"
   ]
  },
  {
   "cell_type": "markdown",
   "metadata": {},
   "source": [
    "----"
   ]
  },
  {
   "cell_type": "markdown",
   "metadata": {},
   "source": [
    "## y_train\n",
    "\n",
    "Pada langkah ini, kami membuktikan bahwa ada ID nasabah yang terduplikasi di setiap set y_train. Kami tidak melakukan pemangkasan untuk nasabah yang sama dikarenakan ada kemungkinan dia mengubah preferensi churn setelah periode waktu tertentu.\n"
   ]
  },
  {
   "cell_type": "code",
   "execution_count": 17,
   "metadata": {},
   "outputs": [],
   "source": [
    "path = '../data/raw/y_train_3/y_Q[34]_3.csv'\n",
    "y_train = merge_file(path)"
   ]
  },
  {
   "cell_type": "code",
   "execution_count": 18,
   "metadata": {},
   "outputs": [],
   "source": [
    "y_train.to_csv('../data/preprocess/y_train.csv', index=False)"
   ]
  },
  {
   "cell_type": "code",
   "execution_count": 19,
   "metadata": {},
   "outputs": [],
   "source": [
    "path = '../data/raw/y_train_3/'\n",
    "y_Q3_3 = pd.read_csv(path + 'y_Q3_3.csv')\n",
    "y_Q4_3 = pd.read_csv(path + 'y_Q4_3.csv')"
   ]
  },
  {
   "cell_type": "code",
   "execution_count": 20,
   "metadata": {},
   "outputs": [],
   "source": [
    "# Index for trimming\n",
    "idxQ3 = y_Q3_3['cust_no']\n",
    "idxQ4 = y_Q4_3['cust_no']"
   ]
  },
  {
   "cell_type": "code",
   "execution_count": 21,
   "metadata": {},
   "outputs": [
    {
     "name": "stdout",
     "output_type": "stream",
     "text": [
      "69126\n",
      "76170\n"
     ]
    }
   ],
   "source": [
    "print(len(idxQ3))\n",
    "print(len(idxQ4))"
   ]
  },
  {
   "cell_type": "code",
   "execution_count": 22,
   "metadata": {},
   "outputs": [],
   "source": [
    "def trim_by_quarter(dat, isQ3):\n",
    "    '''Trim the data by quarterly index\n",
    "    Param: dat: imported data\n",
    "    Param: isQ3: binary, 1 if Q3; 0 if else\n",
    "    '''\n",
    "    if isQ3:\n",
    "        return(dat[dat['cust_no'].isin(idxQ3)])\n",
    "    else:\n",
    "        return(dat[dat['cust_no'].isin(idxQ4)])"
   ]
  },
  {
   "cell_type": "code",
   "execution_count": 23,
   "metadata": {},
   "outputs": [
    {
     "name": "stdout",
     "output_type": "stream",
     "text": [
      "True\n",
      "True\n"
     ]
    }
   ],
   "source": [
    "# FOR DISPLAY PURPOSE. SKIP THIS CHUNK.\n",
    "# Confirm that all customer IDs are unique\n",
    "print(len(y_Q3_3['cust_no'].value_counts()) == y_Q3_3.shape[0])\n",
    "print(len(y_Q4_3['cust_no'].value_counts()) == y_Q4_3.shape[0])"
   ]
  },
  {
   "cell_type": "code",
   "execution_count": 24,
   "metadata": {
    "scrolled": true
   },
   "outputs": [
    {
     "name": "stdout",
     "output_type": "stream",
     "text": [
      "y_Q3_3 memiliki 69126 baris dan 2 kolom.\n",
      "y_Q4_3 memiliki 76170 baris dan 2 kolom.\n",
      "y_train memiliki 145296 rows dan 2 kolom.\n",
      "y_train memiliki 62397 ID nasabah yang terduplikasi.\n",
      "y_train memiliki 40090 catatan yang sangat identik.\n",
      "22307 nasabah mengubah preferensi churn dari Q3 ke Q4.\n"
     ]
    }
   ],
   "source": [
    "# FOR DISPLAY PURPOSE. SKIP THIS CHUNK.\n",
    "print('y_Q3_3 memiliki {} baris dan {} kolom.'.format(y_Q3_3.shape[0], y_Q3_3.shape[1]))\n",
    "print('y_Q4_3 memiliki {} baris dan {} kolom.'.format(y_Q4_3.shape[0], y_Q4_3.shape[1]))\n",
    "print('y_train memiliki {} rows dan {} kolom.'.format(y_train.shape[0], y_train.shape[1]))\n",
    "print('y_train memiliki {} ID nasabah yang terduplikasi.'.format(y_train['cust_no'].duplicated().sum()))\n",
    "print('y_train memiliki {} catatan yang sangat identik.'.format(y_train.duplicated().sum()))\n",
    "print('{} nasabah mengubah preferensi churn dari Q3 ke Q4.'.format(\n",
    "    y_train['cust_no'].duplicated().sum()-y_train.duplicated().sum()))"
   ]
  },
  {
   "cell_type": "markdown",
   "metadata": {},
   "source": [
    "----"
   ]
  },
  {
   "cell_type": "markdown",
   "metadata": {},
   "source": [
    "### Sample Submission File"
   ]
  },
  {
   "cell_type": "code",
   "execution_count": 25,
   "metadata": {},
   "outputs": [
    {
     "name": "stdout",
     "output_type": "stream",
     "text": [
      "Sample submission file has 76722 rows and 2 columns.\n"
     ]
    },
    {
     "data": {
      "text/html": [
       "<div>\n",
       "<style scoped>\n",
       "    .dataframe tbody tr th:only-of-type {\n",
       "        vertical-align: middle;\n",
       "    }\n",
       "\n",
       "    .dataframe tbody tr th {\n",
       "        vertical-align: top;\n",
       "    }\n",
       "\n",
       "    .dataframe thead th {\n",
       "        text-align: right;\n",
       "    }\n",
       "</style>\n",
       "<table border=\"1\" class=\"dataframe\">\n",
       "  <thead>\n",
       "    <tr style=\"text-align: right;\">\n",
       "      <th></th>\n",
       "      <th>cust_no</th>\n",
       "      <th>label</th>\n",
       "    </tr>\n",
       "  </thead>\n",
       "  <tbody>\n",
       "    <tr>\n",
       "      <th>0</th>\n",
       "      <td>0x3b9b4615</td>\n",
       "      <td>0</td>\n",
       "    </tr>\n",
       "    <tr>\n",
       "      <th>1</th>\n",
       "      <td>0x3b9ae61b</td>\n",
       "      <td>0</td>\n",
       "    </tr>\n",
       "    <tr>\n",
       "      <th>2</th>\n",
       "      <td>0x3b9add69</td>\n",
       "      <td>0</td>\n",
       "    </tr>\n",
       "    <tr>\n",
       "      <th>3</th>\n",
       "      <td>0x3b9b3601</td>\n",
       "      <td>0</td>\n",
       "    </tr>\n",
       "    <tr>\n",
       "      <th>4</th>\n",
       "      <td>0x3b9b2599</td>\n",
       "      <td>0</td>\n",
       "    </tr>\n",
       "  </tbody>\n",
       "</table>\n",
       "</div>"
      ],
      "text/plain": [
       "      cust_no  label\n",
       "0  0x3b9b4615      0\n",
       "1  0x3b9ae61b      0\n",
       "2  0x3b9add69      0\n",
       "3  0x3b9b3601      0\n",
       "4  0x3b9b2599      0"
      ]
     },
     "metadata": {},
     "output_type": "display_data"
    }
   ],
   "source": [
    "# FOR DISPLAY PURPOSE. SKIP THIS CHUNK.\n",
    "sample = pd.read_csv('../instructions/sample_submission.csv')\n",
    "print('Sample submission file has {} rows and {} columns.'.format(sample.shape[0], sample.shape[1]))\n",
    "display(sample.head())"
   ]
  },
  {
   "cell_type": "markdown",
   "metadata": {},
   "source": [
    "----"
   ]
  },
  {
   "cell_type": "markdown",
   "metadata": {},
   "source": [
    "## X_train"
   ]
  },
  {
   "cell_type": "code",
   "execution_count": 26,
   "metadata": {},
   "outputs": [],
   "source": [
    "X_train_Q3 = y_Q3_3.drop('label', axis=1).copy()\n",
    "X_train_Q4 = y_Q4_3.drop('label', axis=1).copy()"
   ]
  },
  {
   "cell_type": "markdown",
   "metadata": {},
   "source": [
    "### Customer Assets (aum)"
   ]
  },
  {
   "cell_type": "code",
   "execution_count": 27,
   "metadata": {},
   "outputs": [],
   "source": [
    "# Q3\n",
    "path = '../data/raw/x_train/aum_m[789].csv'\n",
    "aum_Q3 = merge_file(path)"
   ]
  },
  {
   "cell_type": "code",
   "execution_count": 28,
   "metadata": {},
   "outputs": [],
   "source": [
    "# Q4\n",
    "path = '../data/raw/x_train/aum_m1[012].csv'\n",
    "aum_Q4 = merge_file(path)"
   ]
  },
  {
   "cell_type": "code",
   "execution_count": 29,
   "metadata": {},
   "outputs": [],
   "source": [
    "# Drop duplicated customer IDs except for the last occurrance\n",
    "aum_Q3 = aum_Q3.drop_duplicates(subset=['cust_no'], keep='last')\n",
    "aum_Q4 = aum_Q4.drop_duplicates(subset=['cust_no'], keep='last')"
   ]
  },
  {
   "cell_type": "code",
   "execution_count": 30,
   "metadata": {},
   "outputs": [
    {
     "name": "stdout",
     "output_type": "stream",
     "text": [
      "After dropping duplicated customer IDs, aum_Q3 has 493441 rows and 9 columns.\n",
      "After dropping duplicated customer IDs, aum_Q4 has 543823 rows and 9 columns.\n"
     ]
    }
   ],
   "source": [
    "# FOR DISPLAY PURPOSE. SKIP THIS CHUNK.\n",
    "print('After dropping duplicated customer IDs, aum_Q3 has {} rows and {} columns.'.format(aum_Q3.shape[0], aum_Q3.shape[1]))\n",
    "print('After dropping duplicated customer IDs, aum_Q4 has {} rows and {} columns.'.format(aum_Q4.shape[0], aum_Q4.shape[1]))"
   ]
  },
  {
   "cell_type": "code",
   "execution_count": 31,
   "metadata": {},
   "outputs": [],
   "source": [
    "# Trim by the customer IDs in `y_train` set, separated by quarter\n",
    "aum_Q3 = trim_by_quarter(aum_Q3, True)\n",
    "aum_Q4 = trim_by_quarter(aum_Q4, False)"
   ]
  },
  {
   "cell_type": "code",
   "execution_count": 32,
   "metadata": {
    "scrolled": true
   },
   "outputs": [
    {
     "name": "stdout",
     "output_type": "stream",
     "text": [
      "After trimming, aum_Q3 has 69126 rows and 9 columns.\n",
      "After trimming, aum_Q4 has 76170 rows and 9 columns.\n"
     ]
    }
   ],
   "source": [
    "# FOR DISPLAY PURPOSE. SKIP THIS CHUNK.\n",
    "print('After trimming, aum_Q3 has {} rows and {} columns.'.format(aum_Q3.shape[0], aum_Q3.shape[1]))\n",
    "print('After trimming, aum_Q4 has {} rows and {} columns.'.format(aum_Q4.shape[0], aum_Q4.shape[1]))"
   ]
  },
  {
   "cell_type": "code",
   "execution_count": 33,
   "metadata": {},
   "outputs": [],
   "source": [
    "# Save to archive\n",
    "aum_Q3.to_csv('../data/preprocess/archive/aum_Q3.csv', index=False)\n",
    "aum_Q4.to_csv('../data/preprocess/archive/aum_Q4.csv', index=False)"
   ]
  },
  {
   "cell_type": "code",
   "execution_count": 34,
   "metadata": {},
   "outputs": [],
   "source": [
    "# Merge to X_train\n",
    "X_train_Q3 = X_train_Q3.merge(aum_Q3, how='left', on='cust_no')\n",
    "X_train_Q4 = X_train_Q4.merge(aum_Q4, how='left', on='cust_no')"
   ]
  },
  {
   "cell_type": "markdown",
   "metadata": {},
   "source": [
    "### Customer Behavior (behavior)"
   ]
  },
  {
   "cell_type": "code",
   "execution_count": 35,
   "metadata": {},
   "outputs": [],
   "source": [
    "# Q3\n",
    "path = '../data/raw/x_train/behavior_m[789].csv'\n",
    "behavior_Q3 = merge_file(path)"
   ]
  },
  {
   "cell_type": "code",
   "execution_count": 36,
   "metadata": {},
   "outputs": [],
   "source": [
    "# Q4\n",
    "path = '../data/raw/x_train/behavior_m1[012].csv'\n",
    "behavior_Q4 = merge_file(path)"
   ]
  },
  {
   "cell_type": "code",
   "execution_count": 37,
   "metadata": {},
   "outputs": [],
   "source": [
    "# Drop duplicated customer IDs except for the last occurrance\n",
    "behavior_Q3 = behavior_Q3.drop_duplicates(subset=['cust_no'], keep='last')\n",
    "behavior_Q4 = behavior_Q4.drop_duplicates(subset=['cust_no'], keep='last')"
   ]
  },
  {
   "cell_type": "code",
   "execution_count": 38,
   "metadata": {},
   "outputs": [
    {
     "name": "stdout",
     "output_type": "stream",
     "text": [
      "After dropping duplicated customer IDs, behavior_Q3 has 493441 rows and 8 columns.\n",
      "After dropping duplicated customer IDs, behavior_Q4 has 543823 rows and 8 columns.\n"
     ]
    }
   ],
   "source": [
    "# FOR DISPLAY PURPOSE. SKIP THIS CHUNK.\n",
    "print('After dropping duplicated customer IDs, behavior_Q3 has {} rows and {} columns.'.format(behavior_Q3.shape[0], behavior_Q3.shape[1]))\n",
    "print('After dropping duplicated customer IDs, behavior_Q4 has {} rows and {} columns.'.format(behavior_Q4.shape[0], behavior_Q4.shape[1]))"
   ]
  },
  {
   "cell_type": "code",
   "execution_count": 39,
   "metadata": {},
   "outputs": [],
   "source": [
    "# Trim by the customer IDs in `y_train` set, separated by quarter\n",
    "behavior_Q3 = trim_by_quarter(behavior_Q3, True)\n",
    "behavior_Q4 = trim_by_quarter(behavior_Q4, False)"
   ]
  },
  {
   "cell_type": "code",
   "execution_count": 40,
   "metadata": {},
   "outputs": [
    {
     "name": "stdout",
     "output_type": "stream",
     "text": [
      "After trimming, behavior_Q3 has 69126 rows and 8 columns.\n",
      "After trimming, behavior_Q4 has 76170 rows and 8 columns.\n"
     ]
    }
   ],
   "source": [
    "# FOR DISPLAY PURPOSE. SKIP THIS CHUNK.\n",
    "print('After trimming, behavior_Q3 has {} rows and {} columns.'.format(behavior_Q3.shape[0], behavior_Q3.shape[1]))\n",
    "print('After trimming, behavior_Q4 has {} rows and {} columns.'.format(behavior_Q4.shape[0], behavior_Q4.shape[1]))"
   ]
  },
  {
   "cell_type": "code",
   "execution_count": 41,
   "metadata": {},
   "outputs": [],
   "source": [
    "# Save to archive\n",
    "behavior_Q3.to_csv('../data/preprocess/archive/behavior_Q3.csv', index=False)\n",
    "behavior_Q4.to_csv('../data/preprocess/archive/behavior_Q4.csv', index=False)"
   ]
  },
  {
   "cell_type": "code",
   "execution_count": 42,
   "metadata": {},
   "outputs": [],
   "source": [
    "# Merge to X_train\n",
    "X_train_Q3 = X_train_Q3.merge(behavior_Q3, how='left', on='cust_no')\n",
    "X_train_Q4 = X_train_Q4.merge(behavior_Q4, how='left', on='cust_no')"
   ]
  },
  {
   "cell_type": "markdown",
   "metadata": {},
   "source": [
    "### Important Customer Behavior (big_event)"
   ]
  },
  {
   "cell_type": "code",
   "execution_count": 43,
   "metadata": {},
   "outputs": [
    {
     "name": "stderr",
     "output_type": "stream",
     "text": [
      "/var/folders/9_/x4brsl811qz0cd_g1brsx7n40000gn/T/ipykernel_7989/2200854964.py:6: DtypeWarning: Columns (9) have mixed types. Specify dtype option on import or set low_memory=False.\n",
      "  df_temp = (pd.read_csv(file) for file in file_names)\n"
     ]
    }
   ],
   "source": [
    "# Q3\n",
    "path = '../data/raw/x_train/big_event_Q3.csv'\n",
    "big_event_Q3 = merge_file(path)"
   ]
  },
  {
   "cell_type": "code",
   "execution_count": 44,
   "metadata": {},
   "outputs": [],
   "source": [
    "# Q4\n",
    "path = '../data/raw/x_train/big_event_Q4.csv'\n",
    "big_event_Q4 = merge_file(path)"
   ]
  },
  {
   "cell_type": "code",
   "execution_count": 45,
   "metadata": {},
   "outputs": [],
   "source": [
    "# Drop duplicated customer IDs except for the last occurrance\n",
    "big_event_Q3 = big_event_Q3.drop_duplicates(subset=['cust_no'], keep='last')\n",
    "big_event_Q3 = big_event_Q4.drop_duplicates(subset=['cust_no'], keep='last')"
   ]
  },
  {
   "cell_type": "code",
   "execution_count": 46,
   "metadata": {},
   "outputs": [
    {
     "name": "stdout",
     "output_type": "stream",
     "text": [
      "After dropping duplicated customer IDs, big_event_Q3 has 543823 rows and 19 columns.\n",
      "After dropping duplicated customer IDs, big_event_Q4 has 543823 rows and 19 columns.\n"
     ]
    }
   ],
   "source": [
    "# FOR DISPLAY PURPOSE. SKIP THIS CHUNK.\n",
    "print('After dropping duplicated customer IDs, big_event_Q3 has {} rows and {} columns.'.format(big_event_Q3.shape[0], big_event_Q3.shape[1]))\n",
    "print('After dropping duplicated customer IDs, big_event_Q4 has {} rows and {} columns.'.format(big_event_Q4.shape[0], big_event_Q4.shape[1]))"
   ]
  },
  {
   "cell_type": "code",
   "execution_count": 47,
   "metadata": {},
   "outputs": [],
   "source": [
    "# Trim by the customer IDs in `y_train` set, separated by quarter\n",
    "big_event_Q3 = trim_by_quarter(big_event_Q3, True)\n",
    "big_event_Q4 = trim_by_quarter(big_event_Q4, False)"
   ]
  },
  {
   "cell_type": "code",
   "execution_count": 48,
   "metadata": {},
   "outputs": [
    {
     "name": "stdout",
     "output_type": "stream",
     "text": [
      "After trimming, big_event_Q3 has 69126 rows and 19 columns.\n",
      "After trimming, big_event_Q4 has 76170 rows and 19 columns.\n"
     ]
    }
   ],
   "source": [
    "# FOR DISPLAY PURPOSE. SKIP THIS CHUNK.\n",
    "print('After trimming, big_event_Q3 has {} rows and {} columns.'.format(big_event_Q3.shape[0], big_event_Q3.shape[1]))\n",
    "print('After trimming, big_event_Q4 has {} rows and {} columns.'.format(big_event_Q4.shape[0], big_event_Q4.shape[1]))"
   ]
  },
  {
   "cell_type": "code",
   "execution_count": 49,
   "metadata": {},
   "outputs": [],
   "source": [
    "# Save to archive\n",
    "big_event_Q3.to_csv('../data/preprocess/archive/big_event_Q3.csv', index=False)\n",
    "big_event_Q4.to_csv('../data/preprocess/archive/big_event_Q4.csv', index=False)"
   ]
  },
  {
   "cell_type": "code",
   "execution_count": 50,
   "metadata": {},
   "outputs": [],
   "source": [
    "# Merge to X_train\n",
    "X_train_Q3 = X_train_Q3.merge(big_event_Q3, how='left', on='cust_no')\n",
    "X_train_Q4 = X_train_Q4.merge(big_event_Q4, how='left', on='cust_no')"
   ]
  },
  {
   "cell_type": "markdown",
   "metadata": {},
   "source": [
    "### Customer Deposits (cunkuan)"
   ]
  },
  {
   "cell_type": "code",
   "execution_count": 51,
   "metadata": {},
   "outputs": [],
   "source": [
    "# Q3\n",
    "path = '../data/raw/x_train/cunkuan_m[789].csv'\n",
    "savings_Q3 = merge_file(path)"
   ]
  },
  {
   "cell_type": "code",
   "execution_count": 52,
   "metadata": {},
   "outputs": [],
   "source": [
    "# Q4\n",
    "path = '../data/raw/x_train/cunkuan_m1[012].csv'\n",
    "savings_Q4 = merge_file(path)"
   ]
  },
  {
   "cell_type": "code",
   "execution_count": 53,
   "metadata": {},
   "outputs": [],
   "source": [
    "# Drop duplicated customer IDs except for the last occurrance\n",
    "savings_Q3 = savings_Q3.drop_duplicates(subset=['cust_no'], keep='last')\n",
    "savings_Q4 = savings_Q4.drop_duplicates(subset=['cust_no'], keep='last')"
   ]
  },
  {
   "cell_type": "code",
   "execution_count": 54,
   "metadata": {},
   "outputs": [
    {
     "name": "stdout",
     "output_type": "stream",
     "text": [
      "After dropping duplicated customer IDs, savings_Q3 has 200721 rows and 3 columns.\n",
      "After dropping duplicated customer IDs, savings_Q4 has 237049 rows and 3 columns.\n"
     ]
    }
   ],
   "source": [
    "# FOR DISPLAY PURPOSE. SKIP THIS CHUNK.\n",
    "print('After dropping duplicated customer IDs, savings_Q3 has {} rows and {} columns.'.format(savings_Q3.shape[0], savings_Q3.shape[1]))\n",
    "print('After dropping duplicated customer IDs, savings_Q4 has {} rows and {} columns.'.format(savings_Q4.shape[0], savings_Q4.shape[1]))"
   ]
  },
  {
   "cell_type": "code",
   "execution_count": 55,
   "metadata": {},
   "outputs": [],
   "source": [
    "# Trim by the customer IDs in `y_train` set, separated by quarter\n",
    "savings_Q3 = trim_by_quarter(savings_Q3, True)\n",
    "savings_Q4 = trim_by_quarter(savings_Q4, False)"
   ]
  },
  {
   "cell_type": "code",
   "execution_count": 56,
   "metadata": {},
   "outputs": [
    {
     "name": "stdout",
     "output_type": "stream",
     "text": [
      "After trimming, savings_Q3 has 69122 rows and 3 columns.\n",
      "After trimming, savings_Q4 has 76167 rows and 3 columns.\n"
     ]
    }
   ],
   "source": [
    "# FOR DISPLAY PURPOSE. SKIP THIS CHUNK.\n",
    "print('After trimming, savings_Q3 has {} rows and {} columns.'.format(savings_Q3.shape[0], savings_Q3.shape[1]))\n",
    "print('After trimming, savings_Q4 has {} rows and {} columns.'.format(savings_Q4.shape[0], savings_Q4.shape[1]))"
   ]
  },
  {
   "cell_type": "code",
   "execution_count": 57,
   "metadata": {},
   "outputs": [],
   "source": [
    "# Save to archive\n",
    "savings_Q3.to_csv('../data/preprocess/archive/savings_Q3.csv', index=False)\n",
    "savings_Q4.to_csv('../data/preprocess/archive/savings_Q4.csv', index=False)"
   ]
  },
  {
   "cell_type": "code",
   "execution_count": 58,
   "metadata": {},
   "outputs": [],
   "source": [
    "# Merge to X_train\n",
    "X_train_Q3 = X_train_Q3.merge(savings_Q3, how='left', on='cust_no')\n",
    "X_train_Q4 = X_train_Q4.merge(savings_Q4, how='left', on='cust_no')"
   ]
  },
  {
   "cell_type": "markdown",
   "metadata": {},
   "source": [
    "### Valid Customer (cust_avli)\n",
    "\n",
    "Set customer valid berisi ID nasabah yang sama dengan yang ada di set tes/uji"
   ]
  },
  {
   "cell_type": "code",
   "execution_count": 59,
   "metadata": {},
   "outputs": [],
   "source": [
    "# Q3\n",
    "path = '../data/raw/x_train/cust_avli_Q3.csv'\n",
    "cust_avli_Q3 = merge_file(path)"
   ]
  },
  {
   "cell_type": "code",
   "execution_count": 60,
   "metadata": {},
   "outputs": [],
   "source": [
    "# Q4\n",
    "path = '../data/raw/x_train/cust_avli_Q4.csv'\n",
    "cust_avli_Q4 = merge_file(path)"
   ]
  },
  {
   "cell_type": "code",
   "execution_count": 61,
   "metadata": {},
   "outputs": [
    {
     "name": "stdout",
     "output_type": "stream",
     "text": [
      "cust_avli_Q3 has 69126 rows and 1 columns.\n",
      "cust_avli_Q4 has 76170 rows and 1 columns.\n"
     ]
    }
   ],
   "source": [
    "# FOR DISPLAY PURPOSE. SKIP THIS CHUNK.\n",
    "print('cust_avli_Q3 has {} rows and {} columns.'.format(cust_avli_Q3.shape[0], cust_avli_Q3.shape[1]))\n",
    "print('cust_avli_Q4 has {} rows and {} columns.'.format(cust_avli_Q4.shape[0], cust_avli_Q4.shape[1]))"
   ]
  },
  {
   "cell_type": "code",
   "execution_count": 62,
   "metadata": {
    "scrolled": true
   },
   "outputs": [
    {
     "name": "stdout",
     "output_type": "stream",
     "text": [
      "True\n",
      "True\n"
     ]
    }
   ],
   "source": [
    "# FOR DISPLAY PURPOSE. SKIP THIS CHUNK.\n",
    "# Confirm that valid customers are the same as those in the test set\n",
    "print(len(cust_avli_Q3.value_counts()) == y_Q3_3.shape[0])\n",
    "print(len(cust_avli_Q4.value_counts()) == y_Q4_3.shape[0])"
   ]
  },
  {
   "cell_type": "markdown",
   "metadata": {},
   "source": [
    "### Customer Trivias (cust_info)"
   ]
  },
  {
   "cell_type": "code",
   "execution_count": 63,
   "metadata": {},
   "outputs": [],
   "source": [
    "# Q3\n",
    "path = '../data/raw/x_train/cust_info_q3.csv'\n",
    "cust_info_Q3 = merge_file(path)"
   ]
  },
  {
   "cell_type": "code",
   "execution_count": 64,
   "metadata": {},
   "outputs": [],
   "source": [
    "# Q4\n",
    "path = '../data/raw/x_train/cust_info_q4.csv'\n",
    "cust_info_Q4 = merge_file(path)"
   ]
  },
  {
   "cell_type": "code",
   "execution_count": 65,
   "metadata": {},
   "outputs": [],
   "source": [
    "# Drop duplicated customer IDs except for the last occurrance\n",
    "cust_info_Q3 = cust_info_Q3.drop_duplicates(subset=['cust_no'], keep='last')\n",
    "cust_info_Q4 = cust_info_Q4.drop_duplicates(subset=['cust_no'], keep='last')"
   ]
  },
  {
   "cell_type": "code",
   "execution_count": 66,
   "metadata": {
    "scrolled": true
   },
   "outputs": [
    {
     "name": "stdout",
     "output_type": "stream",
     "text": [
      "After dropping duplicated customer IDs, cust_info_Q3 has 493441 rows and 21 columns.\n",
      "After dropping duplicated customer IDs, cust_info_Q4 has 543823 rows and 21 columns.\n"
     ]
    }
   ],
   "source": [
    "# FOR DISPLAY PURPOSE. SKIP THIS CHUNK.\n",
    "print('After dropping duplicated customer IDs, cust_info_Q3 has {} rows and {} columns.'.format(cust_info_Q3.shape[0], cust_info_Q3.shape[1]))\n",
    "print('After dropping duplicated customer IDs, cust_info_Q4 has {} rows and {} columns.'.format(cust_info_Q4.shape[0], cust_info_Q4.shape[1]))"
   ]
  },
  {
   "cell_type": "code",
   "execution_count": 67,
   "metadata": {},
   "outputs": [],
   "source": [
    "# Trim by the customer IDs in `y_train` set, separated by quarter\n",
    "cust_info_Q3 = trim_by_quarter(cust_info_Q3, True)\n",
    "cust_info_Q4 = trim_by_quarter(cust_info_Q4, False)"
   ]
  },
  {
   "cell_type": "code",
   "execution_count": 68,
   "metadata": {},
   "outputs": [
    {
     "name": "stdout",
     "output_type": "stream",
     "text": [
      "After trimming, cust_info_Q3 has 69126 rows and 21 columns.\n",
      "After trimming, cust_info_Q4 has 76170 rows and 21 columns.\n"
     ]
    }
   ],
   "source": [
    "# FOR DISPLAY PURPOSE. SKIP THIS CHUNK.\n",
    "print('After trimming, cust_info_Q3 has {} rows and {} columns.'.format(cust_info_Q3.shape[0], cust_info_Q3.shape[1]))\n",
    "print('After trimming, cust_info_Q4 has {} rows and {} columns.'.format(cust_info_Q4.shape[0], cust_info_Q4.shape[1]))"
   ]
  },
  {
   "cell_type": "code",
   "execution_count": 69,
   "metadata": {},
   "outputs": [],
   "source": [
    "# Save to archive\n",
    "cust_info_Q3.to_csv('../data/preprocess/archive/cust_info_Q3.csv', index=False)\n",
    "cust_info_Q4.to_csv('../data/preprocess/archive/cust_info_Q4.csv', index=False)"
   ]
  },
  {
   "cell_type": "code",
   "execution_count": 70,
   "metadata": {},
   "outputs": [],
   "source": [
    "# Merge to X_train\n",
    "X_train_Q3 = X_train_Q3.merge(cust_info_Q3, how='left', on='cust_no')\n",
    "X_train_Q4 = X_train_Q4.merge(cust_info_Q4, how='left', on='cust_no')"
   ]
  },
  {
   "cell_type": "markdown",
   "metadata": {},
   "source": [
    "### X_Train Ready"
   ]
  },
  {
   "cell_type": "code",
   "execution_count": 71,
   "metadata": {},
   "outputs": [
    {
     "name": "stdout",
     "output_type": "stream",
     "text": [
      "(69126, 56)\n",
      "(76170, 56)\n"
     ]
    }
   ],
   "source": [
    "print(X_train_Q3.shape)\n",
    "print(X_train_Q4.shape)"
   ]
  },
  {
   "cell_type": "code",
   "execution_count": 72,
   "metadata": {},
   "outputs": [],
   "source": [
    "X_train_Q3.to_csv('../data/preprocess/archive/X_train_Q3.csv', index=False)\n",
    "X_train_Q4.to_csv('../data/preprocess/archive/X_train_Q4.csv', index=False)"
   ]
  },
  {
   "cell_type": "code",
   "execution_count": 73,
   "metadata": {},
   "outputs": [
    {
     "name": "stderr",
     "output_type": "stream",
     "text": [
      "/var/folders/9_/x4brsl811qz0cd_g1brsx7n40000gn/T/ipykernel_7989/504712879.py:1: FutureWarning: The frame.append method is deprecated and will be removed from pandas in a future version. Use pandas.concat instead.\n",
      "  X_train = X_train_Q3.append(X_train_Q4)\n"
     ]
    }
   ],
   "source": [
    "X_train = X_train_Q3.append(X_train_Q4)"
   ]
  },
  {
   "cell_type": "code",
   "execution_count": 74,
   "metadata": {},
   "outputs": [
    {
     "data": {
      "text/plain": [
       "(145296, 56)"
      ]
     },
     "execution_count": 74,
     "metadata": {},
     "output_type": "execute_result"
    }
   ],
   "source": [
    "X_train.shape"
   ]
  },
  {
   "cell_type": "code",
   "execution_count": 75,
   "metadata": {},
   "outputs": [],
   "source": [
    "X_train.to_csv('../data/preprocess/X_train.csv', index=False)"
   ]
  },
  {
   "cell_type": "markdown",
   "metadata": {},
   "source": [
    "----"
   ]
  },
  {
   "cell_type": "markdown",
   "metadata": {},
   "source": [
    "## X_test"
   ]
  },
  {
   "cell_type": "markdown",
   "metadata": {},
   "source": [
    "### Customer Assets (aum)"
   ]
  },
  {
   "cell_type": "code",
   "execution_count": 76,
   "metadata": {},
   "outputs": [],
   "source": [
    "# Q1\n",
    "path = '../data/raw/x_test/aum_m[123].csv'\n",
    "aum_Q1 = merge_file(path)"
   ]
  },
  {
   "cell_type": "code",
   "execution_count": 77,
   "metadata": {},
   "outputs": [],
   "source": [
    "# Drop duplicated customer IDs except for the last occurrance\n",
    "aum_Q1 = aum_Q1.drop_duplicates(subset=['cust_no'], keep='last')"
   ]
  },
  {
   "cell_type": "code",
   "execution_count": 78,
   "metadata": {},
   "outputs": [
    {
     "name": "stdout",
     "output_type": "stream",
     "text": [
      "After dropping duplicated customer IDs, aum_Q1 has 659624 rows and 9 columns.\n"
     ]
    }
   ],
   "source": [
    "# FOR DISPLAY PURPOSE. SKIP THIS CHUNK.\n",
    "print('After dropping duplicated customer IDs, aum_Q1 has {} rows and {} columns.'.format(aum_Q1.shape[0], aum_Q1.shape[1]))"
   ]
  },
  {
   "cell_type": "markdown",
   "metadata": {},
   "source": [
    "### Customer Behavior (behavior)"
   ]
  },
  {
   "cell_type": "code",
   "execution_count": 79,
   "metadata": {},
   "outputs": [],
   "source": [
    "# Q1\n",
    "path = '../data/raw/x_test/behavior_m[123].csv'\n",
    "behavior_Q1 = merge_file(path)"
   ]
  },
  {
   "cell_type": "code",
   "execution_count": 80,
   "metadata": {},
   "outputs": [],
   "source": [
    "# Drop duplicated customer IDs except for the last occurrance\n",
    "behavior_Q1 = behavior_Q1.drop_duplicates(subset=['cust_no'], keep='last')"
   ]
  },
  {
   "cell_type": "code",
   "execution_count": 81,
   "metadata": {
    "scrolled": true
   },
   "outputs": [
    {
     "name": "stdout",
     "output_type": "stream",
     "text": [
      "After dropping duplicated customer IDs, behavior_Q1 has 659624 rows and 8 columns.\n"
     ]
    }
   ],
   "source": [
    "# FOR DISPLAY PURPOSE. SKIP THIS CHUNK.\n",
    "print('After dropping duplicated customer IDs, behavior_Q1 has {} rows and {} columns.'.format(behavior_Q1.shape[0], behavior_Q1.shape[1]))"
   ]
  },
  {
   "cell_type": "markdown",
   "metadata": {},
   "source": [
    "### Important Customer Behavior (big_event)"
   ]
  },
  {
   "cell_type": "code",
   "execution_count": 82,
   "metadata": {},
   "outputs": [],
   "source": [
    "# Q1\n",
    "path = '../data/raw/x_test/big_event_Q1.csv'\n",
    "big_event_Q1 = merge_file(path)"
   ]
  },
  {
   "cell_type": "code",
   "execution_count": 83,
   "metadata": {},
   "outputs": [],
   "source": [
    "# Drop duplicated customer IDs except for the last occurrance\n",
    "big_event_Q1 = big_event_Q1.drop_duplicates(subset=['cust_no'], keep='last')"
   ]
  },
  {
   "cell_type": "code",
   "execution_count": 84,
   "metadata": {},
   "outputs": [
    {
     "name": "stdout",
     "output_type": "stream",
     "text": [
      "After dropping duplicated customer IDs, big_event_Q1 has 659624 rows and 19 columns.\n"
     ]
    }
   ],
   "source": [
    "# FOR DISPLAY PURPOSE. SKIP THIS CHUNK.\n",
    "print('After dropping duplicated customer IDs, big_event_Q1 has {} rows and {} columns.'.format(big_event_Q1.shape[0], big_event_Q1.shape[1]))"
   ]
  },
  {
   "cell_type": "markdown",
   "metadata": {},
   "source": [
    "### Customer Deposits (cunkuan)"
   ]
  },
  {
   "cell_type": "code",
   "execution_count": 85,
   "metadata": {},
   "outputs": [],
   "source": [
    "# Q1\n",
    "path = '../data/raw/x_test/cunkuan_m[123].csv'\n",
    "savings_Q1 = merge_file(path)"
   ]
  },
  {
   "cell_type": "code",
   "execution_count": 86,
   "metadata": {},
   "outputs": [],
   "source": [
    "# Drop duplicated customer IDs except for the last occurrance\n",
    "savings_Q1 = savings_Q1.drop_duplicates(subset=['cust_no'], keep='last')"
   ]
  },
  {
   "cell_type": "code",
   "execution_count": 87,
   "metadata": {},
   "outputs": [
    {
     "name": "stdout",
     "output_type": "stream",
     "text": [
      "After dropping duplicated customer IDs, savings_Q1 has 254816 rows and 3 columns.\n"
     ]
    }
   ],
   "source": [
    "# FOR DISPLAY PURPOSE. SKIP THIS CHUNK.\n",
    "print('After dropping duplicated customer IDs, savings_Q1 has {} rows and {} columns.'.format(savings_Q1.shape[0], savings_Q1.shape[1]))"
   ]
  },
  {
   "cell_type": "markdown",
   "metadata": {},
   "source": [
    "### Valid Customer (cust_avli)\n",
    "\n",
    "`cust_avli` di set `x_test` identik dengan file submission sampel."
   ]
  },
  {
   "cell_type": "code",
   "execution_count": 88,
   "metadata": {},
   "outputs": [],
   "source": [
    "# Q1\n",
    "path = '../data/raw/x_test/cust_avli_Q1.csv'\n",
    "cust_avli_Q1 = merge_file(path)"
   ]
  },
  {
   "cell_type": "code",
   "execution_count": 89,
   "metadata": {},
   "outputs": [
    {
     "name": "stdout",
     "output_type": "stream",
     "text": [
      "cust_avli_Q1 has 76722 rows and 1 columns.\n"
     ]
    }
   ],
   "source": [
    "# FOR DISPLAY PURPOSE. SKIP THIS CHUNK.\n",
    "print('cust_avli_Q1 has {} rows and {} columns.'.format(cust_avli_Q1.shape[0], cust_avli_Q1.shape[1]))"
   ]
  },
  {
   "cell_type": "markdown",
   "metadata": {},
   "source": [
    "### Customer Trivias (cust_info)"
   ]
  },
  {
   "cell_type": "code",
   "execution_count": 90,
   "metadata": {},
   "outputs": [],
   "source": [
    "# Q1\n",
    "path = '../data/raw/x_test/cust_info_q1.csv'\n",
    "cust_info_Q1 = merge_file(path)"
   ]
  },
  {
   "cell_type": "markdown",
   "metadata": {},
   "source": [
    "## Drop duplicated customer IDs except for the last occurrance\n",
    "cust_info_Q1 = cust_info_Q1.drop_duplicates(subset=['cust_no'], keep='last')"
   ]
  },
  {
   "cell_type": "code",
   "execution_count": 91,
   "metadata": {},
   "outputs": [
    {
     "name": "stdout",
     "output_type": "stream",
     "text": [
      "After dropping duplicated customer IDs, cust_info_Q1 has 659624 rows and 21 columns.\n"
     ]
    }
   ],
   "source": [
    "# FOR DISPLAY PURPOSE. SKIP THIS CHUNK.\n",
    "print('After dropping duplicated customer IDs, cust_info_Q1 has {} rows and {} columns.'.format(cust_info_Q1.shape[0], cust_info_Q1.shape[1]))"
   ]
  },
  {
   "cell_type": "markdown",
   "metadata": {},
   "source": [
    "### X_test Ready"
   ]
  },
  {
   "cell_type": "code",
   "execution_count": 92,
   "metadata": {},
   "outputs": [],
   "source": [
    "X_test = cust_avli_Q1.copy()"
   ]
  },
  {
   "cell_type": "code",
   "execution_count": 93,
   "metadata": {},
   "outputs": [],
   "source": [
    "X_test = X_test.merge(aum_Q1, how='left', on='cust_no')"
   ]
  },
  {
   "cell_type": "code",
   "execution_count": 94,
   "metadata": {},
   "outputs": [],
   "source": [
    "X_test = X_test.merge(behavior_Q1, how='left', on='cust_no')"
   ]
  },
  {
   "cell_type": "code",
   "execution_count": 95,
   "metadata": {},
   "outputs": [],
   "source": [
    "X_test = X_test.merge(big_event_Q1, how='left', on='cust_no')"
   ]
  },
  {
   "cell_type": "code",
   "execution_count": 96,
   "metadata": {},
   "outputs": [],
   "source": [
    "X_test = X_test.merge(savings_Q1, how='left', on='cust_no')"
   ]
  },
  {
   "cell_type": "code",
   "execution_count": 97,
   "metadata": {},
   "outputs": [],
   "source": [
    "X_test = X_test.merge(cust_info_Q1, how='left', on='cust_no')"
   ]
  },
  {
   "cell_type": "code",
   "execution_count": 98,
   "metadata": {},
   "outputs": [
    {
     "data": {
      "text/plain": [
       "(76722, 56)"
      ]
     },
     "execution_count": 98,
     "metadata": {},
     "output_type": "execute_result"
    }
   ],
   "source": [
    "X_test.shape"
   ]
  },
  {
   "cell_type": "code",
   "execution_count": 99,
   "metadata": {},
   "outputs": [],
   "source": [
    "X_test.to_csv('../data/preprocess/X_test.csv', index=False)"
   ]
  },
  {
   "cell_type": "markdown",
   "metadata": {},
   "source": [
    "----"
   ]
  },
  {
   "cell_type": "markdown",
   "metadata": {},
   "source": [
    "## Data Processing"
   ]
  },
  {
   "cell_type": "markdown",
   "metadata": {},
   "source": [
    "### Data\n",
    "\n",
    "Data yang telah diproses adalah feature set :\n",
    "\n",
    "- `X_train.csv`: berisi semua fitur pada Q3 dan Q4 tahun 2019 untuk pelatihan/training. Diimpor sebagai X.\n",
    "- `y_train.csv`: berisi variabel label untuk validasi. Diimpor sebagai y.\n",
    "- `X_test.csv`: berisi semua fitur pada Q1 tahun 2020 untuk pengujian/test. Diimpor sebagai X_true.\n",
    "\n",
    "Setelah mengimpor data, kami mengkonfirmasi bahwa kedua set pelatihan memiliki jumlah record yang sama: 145296. Kami juga mengkonfirmasi bahwa set pengujian memiliki 76722 record. \n",
    "\n",
    "### Procedures\n",
    "\n",
    "Pertama, kami memeriksa feature set.\n",
    "\n",
    "1. Ada 55 feature  \n",
    "\n",
    "2. Kami memeriksa apakah ada nilai yang hilang/missing value dalam set. Kami menemukan beberapa kolom yang berisi missing value, mulai dari 0,005% hingga 100%. Untuk kolom yang berisi sebagian besar missing value, kami menghapus kolom untuk mengurangi beban komputasi. Untuk kolom yang berisi sebagian kecil missing value, kami menerapkan library machine learning dalam deep learning, Datawig: https://github.com/awslabs/datawig, yang mempelajari model machine learning  menggunakan neural network  untuk mengisi missing value dalam data.\n",
    "\n",
    "- Setelah menghapus kolom yang mengandung sebagian besar missing value , kami mengurangi jumlah feature  menjadi 45.\n"
   ]
  },
  {
   "cell_type": "code",
   "execution_count": 100,
   "metadata": {},
   "outputs": [],
   "source": [
    "import pandas as pd\n",
    "import numpy as np\n",
    "from datetime import datetime, date\n",
    "from sklearn.preprocessing import OneHotEncoder, LabelBinarizer"
   ]
  },
  {
   "cell_type": "code",
   "execution_count": 101,
   "metadata": {},
   "outputs": [],
   "source": [
    "X = pd.read_csv('../data/preprocess/X_train.csv')\n",
    "y = pd.read_csv('../data/preprocess/y_train.csv')\n",
    "X_true = pd.read_csv('../data/preprocess/X_test.csv')"
   ]
  },
  {
   "cell_type": "code",
   "execution_count": 102,
   "metadata": {},
   "outputs": [
    {
     "name": "stdout",
     "output_type": "stream",
     "text": [
      "The proprocessed training set has 145296 rows and 56 columns.\n",
      "The proprocessed validation set has 145296 rows and 2 columns.\n",
      "The proprocessed testing set has 76722 rows and 56 columns.\n"
     ]
    }
   ],
   "source": [
    "print('The proprocessed training set has {} rows and {} columns.'.format(X.shape[0], X.shape[1]))\n",
    "print('The proprocessed validation set has {} rows and {} columns.'.format(y.shape[0], y.shape[1]))\n",
    "print('The proprocessed testing set has {} rows and {} columns.'.format(X_true.shape[0], X_true.shape[1]))"
   ]
  },
  {
   "cell_type": "markdown",
   "metadata": {},
   "source": [
    "### Functions"
   ]
  },
  {
   "cell_type": "code",
   "execution_count": 103,
   "metadata": {},
   "outputs": [],
   "source": [
    "def check_missing(dat):\n",
    "    '''Print missing values in each column of the dat\n",
    "    @Param df dat: input data frame\n",
    "    '''\n",
    "    missing_val = dat.isnull().sum()\n",
    "    for index in missing_val.index:\n",
    "        if missing_val[index] > 0:\n",
    "            print('{} has {} missing values. ({:.4%})'.format(index, missing_val[index], missing_val[index]/len(X)))"
   ]
  },
  {
   "cell_type": "code",
   "execution_count": 104,
   "metadata": {},
   "outputs": [],
   "source": [
    "def code_datatime(dat, col, fmt):\n",
    "    '''Convert col in dat to float using day0 as the reference date\n",
    "    @Param df dat: input data frame\n",
    "    @Param str col: column name\n",
    "    @Param str fmt: date time format\n",
    "    '''\n",
    "    year = col + '_y'\n",
    "    month = col + '_m'\n",
    "    day = col + '_d'\n",
    "    \n",
    "    dat[year] = pd.DatetimeIndex(dat[col]).year\n",
    "    dat[month] = pd.DatetimeIndex(dat[col]).month\n",
    "    dat[day] = pd.DatetimeIndex(dat[col]).day\n",
    "    dat.drop(col, axis=1)"
   ]
  },
  {
   "cell_type": "markdown",
   "metadata": {},
   "source": [
    "## y (Label for Validation)\n",
    "\n",
    "Kami menerapkan `LabelBinarizer` untuk membuat label biner. kolom label berisi tiga nilai:\n",
    "\n",
    "- 1: menunjukkan churn\n",
    "- 0: menunjukkan tidak ada preferensi\n",
    "- -1: menunjukkan tidak churn\n"
   ]
  },
  {
   "cell_type": "code",
   "execution_count": 105,
   "metadata": {},
   "outputs": [],
   "source": [
    "y = pd.read_csv('../data/preprocess/y_train.csv')"
   ]
  },
  {
   "cell_type": "code",
   "execution_count": 106,
   "metadata": {},
   "outputs": [
    {
     "data": {
      "text/plain": [
       " 1    92818\n",
       " 0    30237\n",
       "-1    22241\n",
       "Name: label, dtype: int64"
      ]
     },
     "execution_count": 106,
     "metadata": {},
     "output_type": "execute_result"
    }
   ],
   "source": [
    "y['label'].value_counts()"
   ]
  },
  {
   "cell_type": "code",
   "execution_count": 107,
   "metadata": {},
   "outputs": [
    {
     "data": {
      "image/png": "[encoded data removed]",
      "text/plain": [
       "<Figure size 576x432 with 1 Axes>"
      ]
     },
     "metadata": {
      "needs_background": "light"
     },
     "output_type": "display_data"
    }
   ],
   "source": [
    "import matplotlib.pyplot as plt\n",
    "# Hasil dari y['label'].value_counts()\n",
    "value_counts = y['label'].value_counts()\n",
    "\n",
    "# Buat grafik batang\n",
    "plt.figure(figsize=(8, 6))\n",
    "value_counts.plot(kind='bar', color='skyblue')\n",
    "plt.title('Jumlah Data per Kelas Label')\n",
    "plt.xlabel('Kelas Label')\n",
    "plt.ylabel('Jumlah Data')\n",
    "plt.xticks(rotation=0)\n",
    "plt.show()"
   ]
  },
  {
   "cell_type": "code",
   "execution_count": 108,
   "metadata": {},
   "outputs": [
    {
     "data": {
      "text/plain": [
       " 1    63.882006\n",
       " 0    20.810621\n",
       "-1    15.307373\n",
       "Name: label, dtype: float64"
      ]
     },
     "execution_count": 108,
     "metadata": {},
     "output_type": "execute_result"
    }
   ],
   "source": [
    "y['label'].value_counts() / len(y) * 100"
   ]
  },
  {
   "cell_type": "code",
   "execution_count": 109,
   "metadata": {},
   "outputs": [
    {
     "data": {
      "text/html": [
       "<style>#sk-container-id-1 {color: black;}#sk-container-id-1 pre{padding: 0;}#sk-container-id-1 div.sk-toggleable {background-color: white;}#sk-container-id-1 label.sk-toggleable__label {cursor: pointer;display: block;width: 100%;margin-bottom: 0;padding: 0.3em;box-sizing: border-box;text-align: center;}#sk-container-id-1 label.sk-toggleable__label-arrow:before {content: \"▸\";float: left;margin-right: 0.25em;color: #696969;}#sk-container-id-1 label.sk-toggleable__label-arrow:hover:before {color: black;}#sk-container-id-1 div.sk-estimator:hover label.sk-toggleable__label-arrow:before {color: black;}#sk-container-id-1 div.sk-toggleable__content {max-height: 0;max-width: 0;overflow: hidden;text-align: left;background-color: #f0f8ff;}#sk-container-id-1 div.sk-toggleable__content pre {margin: 0.2em;color: black;border-radius: 0.25em;background-color: #f0f8ff;}#sk-container-id-1 input.sk-toggleable__control:checked~div.sk-toggleable__content {max-height: 200px;max-width: 100%;overflow: auto;}#sk-container-id-1 input.sk-toggleable__control:checked~label.sk-toggleable__label-arrow:before {content: \"▾\";}#sk-container-id-1 div.sk-estimator input.sk-toggleable__control:checked~label.sk-toggleable__label {background-color: #d4ebff;}#sk-container-id-1 div.sk-label input.sk-toggleable__control:checked~label.sk-toggleable__label {background-color: #d4ebff;}#sk-container-id-1 input.sk-hidden--visually {border: 0;clip: rect(1px 1px 1px 1px);clip: rect(1px, 1px, 1px, 1px);height: 1px;margin: -1px;overflow: hidden;padding: 0;position: absolute;width: 1px;}#sk-container-id-1 div.sk-estimator {font-family: monospace;background-color: #f0f8ff;border: 1px dotted black;border-radius: 0.25em;box-sizing: border-box;margin-bottom: 0.5em;}#sk-container-id-1 div.sk-estimator:hover {background-color: #d4ebff;}#sk-container-id-1 div.sk-parallel-item::after {content: \"\";width: 100%;border-bottom: 1px solid gray;flex-grow: 1;}#sk-container-id-1 div.sk-label:hover label.sk-toggleable__label {background-color: #d4ebff;}#sk-container-id-1 div.sk-serial::before {content: \"\";position: absolute;border-left: 1px solid gray;box-sizing: border-box;top: 0;bottom: 0;left: 50%;z-index: 0;}#sk-container-id-1 div.sk-serial {display: flex;flex-direction: column;align-items: center;background-color: white;padding-right: 0.2em;padding-left: 0.2em;position: relative;}#sk-container-id-1 div.sk-item {position: relative;z-index: 1;}#sk-container-id-1 div.sk-parallel {display: flex;align-items: stretch;justify-content: center;background-color: white;position: relative;}#sk-container-id-1 div.sk-item::before, #sk-container-id-1 div.sk-parallel-item::before {content: \"\";position: absolute;border-left: 1px solid gray;box-sizing: border-box;top: 0;bottom: 0;left: 50%;z-index: -1;}#sk-container-id-1 div.sk-parallel-item {display: flex;flex-direction: column;z-index: 1;position: relative;background-color: white;}#sk-container-id-1 div.sk-parallel-item:first-child::after {align-self: flex-end;width: 50%;}#sk-container-id-1 div.sk-parallel-item:last-child::after {align-self: flex-start;width: 50%;}#sk-container-id-1 div.sk-parallel-item:only-child::after {width: 0;}#sk-container-id-1 div.sk-dashed-wrapped {border: 1px dashed gray;margin: 0 0.4em 0.5em 0.4em;box-sizing: border-box;padding-bottom: 0.4em;background-color: white;}#sk-container-id-1 div.sk-label label {font-family: monospace;font-weight: bold;display: inline-block;line-height: 1.2em;}#sk-container-id-1 div.sk-label-container {text-align: center;}#sk-container-id-1 div.sk-container {/* jupyter's `normalize.less` sets `[hidden] { display: none; }` but bootstrap.min.css set `[hidden] { display: none !important; }` so we also need the `!important` here to be able to override the default hidden behavior on the sphinx rendered scikit-learn.org. See: https://github.com/scikit-learn/scikit-learn/issues/21755 */display: inline-block !important;position: relative;}#sk-container-id-1 div.sk-text-repr-fallback {display: none;}</style><div id=\"sk-container-id-1\" class=\"sk-top-container\"><div class=\"sk-text-repr-fallback\"><pre>LabelBinarizer()</pre><b>In a Jupyter environment, please rerun this cell to show the HTML representation or trust the notebook. <br />On GitHub, the HTML representation is unable to render, please try loading this page with nbviewer.org.</b></div><div class=\"sk-container\" hidden><div class=\"sk-item\"><div class=\"sk-estimator sk-toggleable\"><input class=\"sk-toggleable__control sk-hidden--visually\" id=\"sk-estimator-id-1\" type=\"checkbox\" checked><label for=\"sk-estimator-id-1\" class=\"sk-toggleable__label sk-toggleable__label-arrow\">LabelBinarizer</label><div class=\"sk-toggleable__content\"><pre>LabelBinarizer()</pre></div></div></div></div></div>"
      ],
      "text/plain": [
       "LabelBinarizer()"
      ]
     },
     "execution_count": 109,
     "metadata": {},
     "output_type": "execute_result"
    }
   ],
   "source": [
    "lb = LabelBinarizer()\n",
    "lb.fit(y['label'])"
   ]
  },
  {
   "cell_type": "code",
   "execution_count": 110,
   "metadata": {},
   "outputs": [
    {
     "data": {
      "text/plain": [
       "array([-1,  0,  1])"
      ]
     },
     "execution_count": 110,
     "metadata": {},
     "output_type": "execute_result"
    }
   ],
   "source": [
    "lb.classes_"
   ]
  },
  {
   "cell_type": "code",
   "execution_count": 111,
   "metadata": {},
   "outputs": [],
   "source": [
    "y_label = lb.transform(y['label'])"
   ]
  },
  {
   "cell_type": "markdown",
   "metadata": {},
   "source": [
    "## X (Feature for Training)"
   ]
  },
  {
   "cell_type": "markdown",
   "metadata": {},
   "source": [
    "### Missing Values\n",
    "\n",
    "Pertama kami memproses missing value dalam data. Beberapa kolom mengandung missing value. Persentase missing value di setiap kolom berkisar dari 0,0048% hingga 100,00%. Kami menghapus kolom yang mengandung sebagian besar missing value."
   ]
  },
  {
   "cell_type": "code",
   "execution_count": 112,
   "metadata": {},
   "outputs": [
    {
     "name": "stdout",
     "output_type": "stream",
     "text": [
      "B6 has 71207 missing values. (49.0082%)\n",
      "B7 has 67276 missing values. (46.3027%)\n",
      "E2 has 6237 missing values. (4.2926%)\n",
      "E3 has 6237 missing values. (4.2926%)\n",
      "E4 has 83552 missing values. (57.5047%)\n",
      "E5 has 53287 missing values. (36.6748%)\n",
      "E6 has 6928 missing values. (4.7682%)\n",
      "E7 has 142277 missing values. (97.9222%)\n",
      "E8 has 127233 missing values. (87.5681%)\n",
      "E9 has 145220 missing values. (99.9477%)\n",
      "E10 has 1008 missing values. (0.6938%)\n",
      "E11 has 145296 missing values. (100.0000%)\n",
      "E12 has 120590 missing values. (82.9961%)\n",
      "E13 has 126976 missing values. (87.3913%)\n",
      "E14 has 87672 missing values. (60.3403%)\n",
      "E16 has 65839 missing values. (45.3137%)\n",
      "E18 has 60103 missing values. (41.3659%)\n",
      "C1 has 7 missing values. (0.0048%)\n",
      "C2 has 7 missing values. (0.0048%)\n",
      "I1 has 64 missing values. (0.0440%)\n",
      "I5 has 11604 missing values. (7.9865%)\n",
      "I9 has 145296 missing values. (100.0000%)\n",
      "I10 has 128487 missing values. (88.4312%)\n",
      "I13 has 143108 missing values. (98.4941%)\n",
      "I14 has 129650 missing values. (89.2316%)\n"
     ]
    }
   ],
   "source": [
    "# Check missing values\n",
    "check_missing(X)"
   ]
  },
  {
   "cell_type": "code",
   "execution_count": 113,
   "metadata": {},
   "outputs": [],
   "source": [
    "# Drop columns with large portion of missing values\n",
    "col_to_drop = ['E7', 'E8', 'E9', 'E11', 'E12', 'E13', 'I9', 'I10', 'I13', 'I14']\n",
    "X = X.drop(col_to_drop, axis=1)"
   ]
  },
  {
   "cell_type": "code",
   "execution_count": 114,
   "metadata": {},
   "outputs": [
    {
     "name": "stdout",
     "output_type": "stream",
     "text": [
      "After dropping columns containing large portion of missing values, now the set has 46 columns.\n"
     ]
    }
   ],
   "source": [
    "print('After dropping columns containing large portion of missing values, now the set has {} columns.'.format(X.shape[1]))"
   ]
  },
  {
   "cell_type": "code",
   "execution_count": 115,
   "metadata": {},
   "outputs": [
    {
     "name": "stdout",
     "output_type": "stream",
     "text": [
      "B6 has 71207 missing values. (49.0082%)\n",
      "B7 has 67276 missing values. (46.3027%)\n",
      "E2 has 6237 missing values. (4.2926%)\n",
      "E3 has 6237 missing values. (4.2926%)\n",
      "E4 has 83552 missing values. (57.5047%)\n",
      "E5 has 53287 missing values. (36.6748%)\n",
      "E6 has 6928 missing values. (4.7682%)\n",
      "E10 has 1008 missing values. (0.6938%)\n",
      "E14 has 87672 missing values. (60.3403%)\n",
      "E16 has 65839 missing values. (45.3137%)\n",
      "E18 has 60103 missing values. (41.3659%)\n",
      "C1 has 7 missing values. (0.0048%)\n",
      "C2 has 7 missing values. (0.0048%)\n",
      "I1 has 64 missing values. (0.0440%)\n",
      "I5 has 11604 missing values. (7.9865%)\n"
     ]
    }
   ],
   "source": [
    "check_missing(X)"
   ]
  },
  {
   "cell_type": "code",
   "execution_count": 116,
   "metadata": {},
   "outputs": [],
   "source": [
    "# B6: Latest transfer time\n",
    "fmt = '%Y-%m-%d %H:%M:%S'\n",
    "X['B6'] = pd.to_datetime(X['B6'], format=fmt, errors='ignore')"
   ]
  },
  {
   "cell_type": "code",
   "execution_count": 117,
   "metadata": {},
   "outputs": [],
   "source": [
    "X['B6'] = X['B6'].replace(np.NaN, X['B6'].min())"
   ]
  },
  {
   "cell_type": "code",
   "execution_count": 118,
   "metadata": {},
   "outputs": [],
   "source": [
    "# E category\n",
    "fmt = '%Y-%m-%d'\n",
    "col_names = ['E1', 'E2', 'E3', 'E4', 'E5', 'E6', 'E10', 'E14', 'E16', 'E18']\n",
    "for col_name in col_names:\n",
    "    X[col_name] = pd.to_datetime(X[col_name], format=fmt, errors='ignore')"
   ]
  },
  {
   "cell_type": "code",
   "execution_count": 119,
   "metadata": {},
   "outputs": [],
   "source": [
    "# E2: Online banking opening date\n",
    "X['E2'] = X['E2'].replace(np.NaN, X['E2'].max())"
   ]
  },
  {
   "cell_type": "code",
   "execution_count": 120,
   "metadata": {},
   "outputs": [],
   "source": [
    "# E3: Mobile banking opening date\n",
    "X['E3'] = X['E3'].replace(np.NaN, X['E3'].max())"
   ]
  },
  {
   "cell_type": "code",
   "execution_count": 121,
   "metadata": {},
   "outputs": [],
   "source": [
    "# E4: First online banking login date\n",
    "X['E4'] = X['E4'].replace(np.NaN, X['E4'].max())"
   ]
  },
  {
   "cell_type": "code",
   "execution_count": 122,
   "metadata": {},
   "outputs": [],
   "source": [
    "# E5: First mobile banking login date\n",
    "X['E5'] = X['E5'].replace(np.NaN, X['E5'].max())"
   ]
  },
  {
   "cell_type": "code",
   "execution_count": 123,
   "metadata": {},
   "outputs": [],
   "source": [
    "# E6: First demand deposit date\n",
    "X['E6'] = X['E6'].replace(np.NaN, X['E6'].mean())"
   ]
  },
  {
   "cell_type": "code",
   "execution_count": 124,
   "metadata": {},
   "outputs": [],
   "source": [
    "# E10: First cash transaction date\n",
    "X['E10'] = X['E10'].replace(np.NaN, X['E10'].mean())"
   ]
  },
  {
   "cell_type": "code",
   "execution_count": 125,
   "metadata": {},
   "outputs": [],
   "source": [
    "# E14: First transfer via mobile banking date\n",
    "X['E14'] = X['E14'].replace(np.NaN, X['E14'].mean())"
   ]
  },
  {
   "cell_type": "code",
   "execution_count": 126,
   "metadata": {},
   "outputs": [],
   "source": [
    "# E16: Maximum amount transferred out of another bank date\n",
    "X['E16'] = X['E16'].replace(np.NaN, X['E16'].mean())"
   ]
  },
  {
   "cell_type": "code",
   "execution_count": 127,
   "metadata": {},
   "outputs": [],
   "source": [
    "# E18: Maximum transfer amount from other bank date\n",
    "X['E18'] = X['E18'].replace(np.NaN, X['E18'].mean())"
   ]
  },
  {
   "cell_type": "code",
   "execution_count": 128,
   "metadata": {},
   "outputs": [],
   "source": [
    "# C1\n",
    "X['C1'] = X['C1'].fillna(0)\n",
    "# C2\n",
    "X['C2'] = X['C2'].fillna(0)\n",
    "# I1\n",
    "X['I1'] = X['I1'].replace(np.NaN, '女性')\n",
    "# I5\n",
    "X['I5'] = X['I5'].replace(np.NaN, '未知')"
   ]
  },
  {
   "cell_type": "code",
   "execution_count": 129,
   "metadata": {},
   "outputs": [
    {
     "name": "stdout",
     "output_type": "stream",
     "text": [
      "B7 has 67276 missing values. (46.3027%)\n"
     ]
    }
   ],
   "source": [
    "check_missing(X)"
   ]
  },
  {
   "cell_type": "markdown",
   "metadata": {},
   "source": [
    "### Drop Meaningless Columns\n",
    "\n",
    "Berdasarkan codebook, setelah melihat data, kami menentukan bahwa kolom-kolom berikut berisi informasi yang tidak berarti, oleh karena itu, kami menghapus kolom-kolom ini:\n",
    "\n",
    "- `I8`: constellation. Kami tidak percaya constellation dapat mengubah perilaku pelanggan/ customer behavior.\n",
    "- `I12`: field description. hanya berisi 1 nilai yang berbeda.\n",
    "- `I15`: QR code recipient."
   ]
  },
  {
   "cell_type": "code",
   "execution_count": 130,
   "metadata": {},
   "outputs": [],
   "source": [
    "col_to_drop = ['I8', 'I12', 'I15']\n",
    "X = X.drop(col_to_drop, axis=1)"
   ]
  },
  {
   "cell_type": "code",
   "execution_count": 131,
   "metadata": {},
   "outputs": [
    {
     "name": "stdout",
     "output_type": "stream",
     "text": [
      "After dropping columns containing large portion of missing values, now the set has 43 columns.\n"
     ]
    }
   ],
   "source": [
    "print('After dropping columns containing large portion of missing values, now the set has {} columns.'.format(X.shape[1]))"
   ]
  },
  {
   "cell_type": "code",
   "execution_count": 132,
   "metadata": {},
   "outputs": [
    {
     "data": {
      "text/plain": [
       "Index(['cust_no', 'X1', 'X2', 'X3', 'X4', 'X5', 'X6', 'X7', 'X8', 'B1', 'B2',\n",
       "       'B3', 'B4', 'B5', 'B6', 'B7', 'E1', 'E2', 'E3', 'E4', 'E5', 'E6', 'E10',\n",
       "       'E14', 'E15', 'E16', 'E17', 'E18', 'C1', 'C2', 'I1', 'I2', 'I3', 'I4',\n",
       "       'I5', 'I6', 'I7', 'I11', 'I16', 'I17', 'I18', 'I19', 'I20'],\n",
       "      dtype='object')"
      ]
     },
     "execution_count": 132,
     "metadata": {},
     "output_type": "execute_result"
    }
   ],
   "source": [
    "X.columns"
   ]
  },
  {
   "cell_type": "markdown",
   "metadata": {},
   "source": [
    "### Dummy Coding\n",
    "\n",
    "Kami memberi kode dummy pada kolom kategorikal"
   ]
  },
  {
   "cell_type": "markdown",
   "metadata": {},
   "source": [
    "\n",
    "#### Date Time Columns\n",
    "\n",
    "Untuk memberi kode dummy kolom yang berisi tanggal dan waktu, kami pertama-tama mengonversi semua input string ke format datetime. Kemudian, kami membuat kolom dummy untuk tahun, bulan, dan hari dari setiap kolom datetime. Terakhir, kami menghapus kolom asli.\n",
    "\n"
   ]
  },
  {
   "cell_type": "code",
   "execution_count": 133,
   "metadata": {},
   "outputs": [],
   "source": [
    "# B6: Latest transfer time\n",
    "fmt = '%Y-%m-%d %H:%M:%S'\n",
    "code_datatime(X, 'B6', fmt)"
   ]
  },
  {
   "cell_type": "code",
   "execution_count": 134,
   "metadata": {},
   "outputs": [],
   "source": [
    "X = X.drop('B6', axis=1)"
   ]
  },
  {
   "cell_type": "code",
   "execution_count": 135,
   "metadata": {},
   "outputs": [],
   "source": [
    "# E category\n",
    "fmt = '%Y-%m-%d'\n",
    "col_names = ['E1', 'E2', 'E3', 'E4', 'E5', 'E6', 'E10', 'E14', 'E16', 'E18']\n",
    "for col_name in col_names:\n",
    "    code_datatime(X, col_name, fmt)"
   ]
  },
  {
   "cell_type": "code",
   "execution_count": 136,
   "metadata": {},
   "outputs": [],
   "source": [
    "X = X.drop(col_names, axis=1)"
   ]
  },
  {
   "cell_type": "code",
   "execution_count": 137,
   "metadata": {},
   "outputs": [
    {
     "data": {
      "text/plain": [
       "(145296, 65)"
      ]
     },
     "execution_count": 137,
     "metadata": {},
     "output_type": "execute_result"
    }
   ],
   "source": [
    "X.shape"
   ]
  },
  {
   "cell_type": "code",
   "execution_count": 138,
   "metadata": {},
   "outputs": [
    {
     "data": {
      "text/plain": [
       "Index(['cust_no', 'X1', 'X2', 'X3', 'X4', 'X5', 'X6', 'X7', 'X8', 'B1', 'B2',\n",
       "       'B3', 'B4', 'B5', 'B7', 'E15', 'E17', 'C1', 'C2', 'I1', 'I2', 'I3',\n",
       "       'I4', 'I5', 'I6', 'I7', 'I11', 'I16', 'I17', 'I18', 'I19', 'I20',\n",
       "       'B6_y', 'B6_m', 'B6_d', 'E1_y', 'E1_m', 'E1_d', 'E2_y', 'E2_m', 'E2_d',\n",
       "       'E3_y', 'E3_m', 'E3_d', 'E4_y', 'E4_m', 'E4_d', 'E5_y', 'E5_m', 'E5_d',\n",
       "       'E6_y', 'E6_m', 'E6_d', 'E10_y', 'E10_m', 'E10_d', 'E14_y', 'E14_m',\n",
       "       'E14_d', 'E16_y', 'E16_m', 'E16_d', 'E18_y', 'E18_m', 'E18_d'],\n",
       "      dtype='object')"
      ]
     },
     "execution_count": 138,
     "metadata": {},
     "output_type": "execute_result"
    }
   ],
   "source": [
    "X.columns"
   ]
  },
  {
   "cell_type": "markdown",
   "metadata": {},
   "source": [
    "#### Categorical Columns\n",
    "\n",
    "Untuk mencegah algoritma menafsirkan hierarki dalam kolom kategorikal yang diberi kode dummy, kami menerapkan One-hot encoding ke kolom kategorikal."
   ]
  },
  {
   "cell_type": "code",
   "execution_count": 139,
   "metadata": {},
   "outputs": [],
   "source": [
    "# I1: Gender\n",
    "X = pd.get_dummies(X, columns=['I1'], drop_first=True)"
   ]
  },
  {
   "cell_type": "code",
   "execution_count": 140,
   "metadata": {},
   "outputs": [],
   "source": [
    "# I4: Tag\n",
    "X = pd.get_dummies(X, columns=['I4'], drop_first=True)"
   ]
  },
  {
   "cell_type": "code",
   "execution_count": 141,
   "metadata": {},
   "outputs": [],
   "source": [
    "# I6: Deposit customer tag\n",
    "X = pd.get_dummies(X, columns=['I6'], drop_first=True)"
   ]
  },
  {
   "cell_type": "code",
   "execution_count": 142,
   "metadata": {},
   "outputs": [],
   "source": [
    "# I16: VIP\n",
    "X = pd.get_dummies(X, columns=['I16'], drop_first=True)"
   ]
  },
  {
   "cell_type": "code",
   "execution_count": 143,
   "metadata": {},
   "outputs": [],
   "source": [
    "# I17: Online banking client\n",
    "X = pd.get_dummies(X, columns=['I17'], drop_first=True)"
   ]
  },
  {
   "cell_type": "code",
   "execution_count": 144,
   "metadata": {},
   "outputs": [],
   "source": [
    "# I18: Mobile banking client\n",
    "X = pd.get_dummies(X, columns=['I18'], drop_first=True)"
   ]
  },
  {
   "cell_type": "code",
   "execution_count": 145,
   "metadata": {},
   "outputs": [],
   "source": [
    "# I19: SMS client\n",
    "X = pd.get_dummies(X, columns=['I19'], drop_first=True)"
   ]
  },
  {
   "cell_type": "code",
   "execution_count": 146,
   "metadata": {},
   "outputs": [],
   "source": [
    "# I20: WeChat Pay client\n",
    "X = pd.get_dummies(X, columns=['I20'], drop_first=True)"
   ]
  },
  {
   "cell_type": "code",
   "execution_count": 147,
   "metadata": {},
   "outputs": [],
   "source": [
    "enc = OneHotEncoder(handle_unknown='ignore')"
   ]
  },
  {
   "cell_type": "code",
   "execution_count": 148,
   "metadata": {},
   "outputs": [],
   "source": [
    "cat_col_names = ['I3', 'I5']\n",
    "enc_df = pd.DataFrame(enc.fit_transform(X[cat_col_names]).toarray())"
   ]
  },
  {
   "cell_type": "code",
   "execution_count": 149,
   "metadata": {},
   "outputs": [],
   "source": [
    "X_encoded = X.join(enc_df)"
   ]
  },
  {
   "cell_type": "code",
   "execution_count": 150,
   "metadata": {},
   "outputs": [],
   "source": [
    "X_encoded = X_encoded.drop(cat_col_names, axis=1)"
   ]
  },
  {
   "cell_type": "code",
   "execution_count": 151,
   "metadata": {},
   "outputs": [
    {
     "name": "stdout",
     "output_type": "stream",
     "text": [
      "After dummy coding, now the set has 78 columns.\n"
     ]
    }
   ],
   "source": [
    "print('After dummy coding, now the set has {} columns.'.format(X_encoded.shape[1]))"
   ]
  },
  {
   "cell_type": "code",
   "execution_count": 152,
   "metadata": {},
   "outputs": [
    {
     "data": {
      "text/plain": [
       "(145296, 78)"
      ]
     },
     "execution_count": 152,
     "metadata": {},
     "output_type": "execute_result"
    }
   ],
   "source": [
    "X_encoded.shape"
   ]
  },
  {
   "cell_type": "code",
   "execution_count": 153,
   "metadata": {},
   "outputs": [
    {
     "data": {
      "text/plain": [
       "Index(['cust_no',      'X1',      'X2',      'X3',      'X4',      'X5',\n",
       "            'X6',      'X7',      'X8',      'B1',      'B2',      'B3',\n",
       "            'B4',      'B5',      'B7',     'E15',     'E17',      'C1',\n",
       "            'C2',      'I2',      'I7',     'I11',    'B6_y',    'B6_m',\n",
       "          'B6_d',    'E1_y',    'E1_m',    'E1_d',    'E2_y',    'E2_m',\n",
       "          'E2_d',    'E3_y',    'E3_m',    'E3_d',    'E4_y',    'E4_m',\n",
       "          'E4_d',    'E5_y',    'E5_m',    'E5_d',    'E6_y',    'E6_m',\n",
       "          'E6_d',   'E10_y',   'E10_m',   'E10_d',   'E14_y',   'E14_m',\n",
       "         'E14_d',   'E16_y',   'E16_m',   'E16_d',   'E18_y',   'E18_m',\n",
       "         'E18_d',   'I1_男性',  'I4_1.0',    'I6_1', 'I16_1.0',   'I17_1',\n",
       "         'I18_1',   'I19_1',   'I20_1',         0,         1,         2,\n",
       "               3,         4,         5,         6,         7,         8,\n",
       "               9,        10,        11,        12,        13,        14],\n",
       "      dtype='object')"
      ]
     },
     "execution_count": 153,
     "metadata": {},
     "output_type": "execute_result"
    }
   ],
   "source": [
    "X_encoded.columns"
   ]
  },
  {
   "cell_type": "code",
   "execution_count": 154,
   "metadata": {},
   "outputs": [
    {
     "data": {
      "text/plain": [
       "不便分类的其他从业人员             41958\n",
       "商业工作人员                  27150\n",
       "服务性工作人员                 24727\n",
       "办事人员和有关人员               18844\n",
       "未知                      16346\n",
       "专业技术人员                   7851\n",
       "国家机关、党群组织、企业、事业单位负责人     3728\n",
       "生产、运输设备操作人员及有关人员         3408\n",
       "农、林、牧、渔、水利业生产人员          1202\n",
       "军人                         72\n",
       "退休                         10\n",
       "Name: I5, dtype: int64"
      ]
     },
     "execution_count": 154,
     "metadata": {},
     "output_type": "execute_result"
    }
   ],
   "source": [
    "X['I5'].value_counts()"
   ]
  },
  {
   "cell_type": "markdown",
   "metadata": {},
   "source": [
    "- 不便分类的其他从业人员 = \"Other occupations that are inconvenient to classify\"\n",
    "- 商业工作人员 = \"Commercial workers\"\n",
    "- 服务性工作人员 = \"Service workers\"\n",
    "- 办事人员和有关人员 = \"Clerical workers and related personnel\"\n",
    "- 未知 = \"Unknown\"\n",
    "- 专业技术人员 = \"Professional and technical personnel\"\n",
    "- 国家机关、党群组织、企业、事业单位负责人 = \"Leaders of state organs, party and mass organizations, enterprises, and institutions\"\n",
    "- 生产、运输设备操作人员及有关人员 = \"Production and transportation equipment operators and related personnel\"\n",
    "- 农、林、牧、渔、水利业生产人员 = \"Agricultural, forestry, animal husbandry, fishery, and water conservancy industry production workers\"\n",
    "- 军人 = \"Soldiers\"\n",
    "- 退休 = \"Retired\""
   ]
  },
  {
   "cell_type": "markdown",
   "metadata": {},
   "source": [
    "----"
   ]
  },
  {
   "cell_type": "markdown",
   "metadata": {},
   "source": [
    "## X_true (Features for Testing)"
   ]
  },
  {
   "cell_type": "markdown",
   "metadata": {},
   "source": [
    "### Missing Values\n",
    "Sama seperti X, pertama kami memproses missing value dalam data. Beberapa kolom mengandung missing value. Persentase missing value di setiap kolom berkisar dari 0,0048% hingga 100,00%. Kami menghapus kolom yang mengandung sebagian besar missing value.\n",
    "\n",
    "### Drop Meaningless Columns\n",
    "Berdasarkan codebook, setelah melihat data, kami menentukan bahwa kolom-kolom berikut berisi informasi yang tidak berarti, oleh karena itu, kami menghapus kolom-kolom ini:\n",
    "\n",
    "- `I8`: constellation. Kami tidak percaya constellation dapat mengubah perilaku pelanggan/ customer behavior.\n",
    "- `I12`: field description. hanya berisi 1 nilai yang berbed.\n",
    "- `I15`: QR code recipient."
   ]
  },
  {
   "cell_type": "code",
   "execution_count": 155,
   "metadata": {},
   "outputs": [
    {
     "name": "stdout",
     "output_type": "stream",
     "text": [
      "B6 has 76722 missing values. (52.8039%)\n",
      "B7 has 76722 missing values. (52.8039%)\n",
      "E2 has 2889 missing values. (1.9884%)\n",
      "E3 has 2889 missing values. (1.9884%)\n",
      "E4 has 44687 missing values. (30.7558%)\n",
      "E5 has 28121 missing values. (19.3543%)\n",
      "E6 has 1799 missing values. (1.2382%)\n",
      "E7 has 74289 missing values. (51.1294%)\n",
      "E8 has 67269 missing values. (46.2979%)\n",
      "E9 has 76619 missing values. (52.7330%)\n",
      "E10 has 589 missing values. (0.4054%)\n",
      "E11 has 76722 missing values. (52.8039%)\n",
      "E12 has 62490 missing values. (43.0088%)\n",
      "E13 has 67701 missing values. (46.5952%)\n",
      "E14 has 45441 missing values. (31.2748%)\n",
      "E16 has 34876 missing values. (24.0034%)\n",
      "E18 has 32254 missing values. (22.1988%)\n",
      "C1 has 3 missing values. (0.0021%)\n",
      "C2 has 3 missing values. (0.0021%)\n",
      "I1 has 32 missing values. (0.0220%)\n",
      "I5 has 3795 missing values. (2.6119%)\n",
      "I9 has 76722 missing values. (52.8039%)\n",
      "I10 has 67797 missing values. (46.6613%)\n",
      "I13 has 74722 missing values. (51.4274%)\n",
      "I14 has 68320 missing values. (47.0213%)\n"
     ]
    }
   ],
   "source": [
    "# Check missing values\n",
    "check_missing(X_true)"
   ]
  },
  {
   "cell_type": "code",
   "execution_count": 156,
   "metadata": {},
   "outputs": [],
   "source": [
    "# Drop columns with large portion of missing values\n",
    "col_to_drop = ['E7', 'E8', 'E9', 'E11', 'E12', 'E13', 'I9', 'I10', 'I13', 'I14',\n",
    "              'I8', 'I12', 'I15']\n",
    "X_true = X_true.drop(col_to_drop, axis=1)"
   ]
  },
  {
   "cell_type": "code",
   "execution_count": 157,
   "metadata": {},
   "outputs": [
    {
     "name": "stdout",
     "output_type": "stream",
     "text": [
      "After dropping columns containing large portion of missing values and meaningless columns, now the set has 43 columns.\n"
     ]
    }
   ],
   "source": [
    "print('After dropping columns containing large portion of missing values and meaningless columns, now the set has {} columns.'.format(X_true.shape[1]))"
   ]
  },
  {
   "cell_type": "code",
   "execution_count": 158,
   "metadata": {},
   "outputs": [
    {
     "name": "stdout",
     "output_type": "stream",
     "text": [
      "B6 has 76722 missing values. (52.8039%)\n",
      "B7 has 76722 missing values. (52.8039%)\n",
      "E2 has 2889 missing values. (1.9884%)\n",
      "E3 has 2889 missing values. (1.9884%)\n",
      "E4 has 44687 missing values. (30.7558%)\n",
      "E5 has 28121 missing values. (19.3543%)\n",
      "E6 has 1799 missing values. (1.2382%)\n",
      "E10 has 589 missing values. (0.4054%)\n",
      "E14 has 45441 missing values. (31.2748%)\n",
      "E16 has 34876 missing values. (24.0034%)\n",
      "E18 has 32254 missing values. (22.1988%)\n",
      "C1 has 3 missing values. (0.0021%)\n",
      "C2 has 3 missing values. (0.0021%)\n",
      "I1 has 32 missing values. (0.0220%)\n",
      "I5 has 3795 missing values. (2.6119%)\n"
     ]
    }
   ],
   "source": [
    "check_missing(X_true)"
   ]
  },
  {
   "cell_type": "code",
   "execution_count": 159,
   "metadata": {},
   "outputs": [],
   "source": [
    "# B6: Latest transfer time\n",
    "fmt = '%Y-%m-%d %H:%M:%S'\n",
    "X_true['B6'] = pd.to_datetime(X_true['B6'], format=fmt, errors='ignore')"
   ]
  },
  {
   "cell_type": "code",
   "execution_count": 160,
   "metadata": {},
   "outputs": [],
   "source": [
    "X_true['B6'] = X_true['B6'].replace(np.NaN, X_true['B6'].min())"
   ]
  },
  {
   "cell_type": "code",
   "execution_count": 161,
   "metadata": {},
   "outputs": [],
   "source": [
    "# E category\n",
    "fmt = '%Y-%m-%d'\n",
    "col_names = ['E1', 'E2', 'E3', 'E4', 'E5', 'E6', 'E10', 'E14', 'E16', 'E18']\n",
    "for col_name in col_names:\n",
    "    X_true[col_name] = pd.to_datetime(X_true[col_name], format=fmt, errors='ignore')"
   ]
  },
  {
   "cell_type": "code",
   "execution_count": 162,
   "metadata": {},
   "outputs": [],
   "source": [
    "# E2: Online banking opening date\n",
    "X_true['E2'] = X_true['E2'].replace(np.NaN, X_true['E2'].max())"
   ]
  },
  {
   "cell_type": "code",
   "execution_count": 163,
   "metadata": {},
   "outputs": [],
   "source": [
    "# E3: Mobile banking opening date\n",
    "X_true['E3'] = X_true['E3'].replace(np.NaN, X_true['E3'].max())"
   ]
  },
  {
   "cell_type": "code",
   "execution_count": 164,
   "metadata": {},
   "outputs": [],
   "source": [
    "# E4: First online banking login date\n",
    "X_true['E4'] = X_true['E4'].replace(np.NaN, X_true['E4'].max())"
   ]
  },
  {
   "cell_type": "code",
   "execution_count": 165,
   "metadata": {},
   "outputs": [],
   "source": [
    "# E5: First mobile banking login date\n",
    "X_true['E5'] = X_true['E5'].replace(np.NaN, X_true['E5'].max())"
   ]
  },
  {
   "cell_type": "code",
   "execution_count": 166,
   "metadata": {},
   "outputs": [],
   "source": [
    "# E6: First demand deposit date\n",
    "X_true['E6'] = X_true['E6'].replace(np.NaN, X_true['E6'].mean())"
   ]
  },
  {
   "cell_type": "code",
   "execution_count": 167,
   "metadata": {},
   "outputs": [],
   "source": [
    "# E10: First cash transaction date\n",
    "X_true['E10'] = X_true['E10'].replace(np.NaN, X_true['E10'].mean())"
   ]
  },
  {
   "cell_type": "code",
   "execution_count": 168,
   "metadata": {},
   "outputs": [],
   "source": [
    "# E14: First transfer via mobile banking date\n",
    "X_true['E14'] = X_true['E14'].replace(np.NaN, X_true['E14'].mean())"
   ]
  },
  {
   "cell_type": "code",
   "execution_count": 169,
   "metadata": {},
   "outputs": [],
   "source": [
    "# E16: Maximum amount transferred out of another bank date\n",
    "X_true['E16'] = X_true['E16'].replace(np.NaN, X_true['E16'].mean())"
   ]
  },
  {
   "cell_type": "code",
   "execution_count": 170,
   "metadata": {},
   "outputs": [],
   "source": [
    "# E18: Maximum transfer amount from other bank date\n",
    "X_true['E18'] = X_true['E18'].replace(np.NaN, X_true['E18'].mean())"
   ]
  },
  {
   "cell_type": "code",
   "execution_count": 171,
   "metadata": {},
   "outputs": [],
   "source": [
    "# C1\n",
    "X_true['C1'] = X_true['C1'].fillna(0)\n",
    "# C2\n",
    "X_true['C2'] = X_true['C2'].fillna(0)\n",
    "# I1\n",
    "X_true['I1'] = X_true['I1'].replace(np.NaN, '女性')\n",
    "# I5\n",
    "X_true['I5'] = X_true['I5'].replace(np.NaN, '未知')"
   ]
  },
  {
   "cell_type": "code",
   "execution_count": 172,
   "metadata": {},
   "outputs": [
    {
     "name": "stdout",
     "output_type": "stream",
     "text": [
      "B6 has 76722 missing values. (52.8039%)\n",
      "B7 has 76722 missing values. (52.8039%)\n"
     ]
    }
   ],
   "source": [
    "check_missing(X_true)"
   ]
  },
  {
   "cell_type": "code",
   "execution_count": 173,
   "metadata": {},
   "outputs": [
    {
     "data": {
      "text/plain": [
       "Index(['cust_no', 'X1', 'X2', 'X3', 'X4', 'X5', 'X6', 'X7', 'X8', 'B1', 'B2',\n",
       "       'B3', 'B4', 'B5', 'B6', 'B7', 'E1', 'E2', 'E3', 'E4', 'E5', 'E6', 'E10',\n",
       "       'E14', 'E15', 'E16', 'E17', 'E18', 'C1', 'C2', 'I1', 'I2', 'I3', 'I4',\n",
       "       'I5', 'I6', 'I7', 'I11', 'I16', 'I17', 'I18', 'I19', 'I20'],\n",
       "      dtype='object')"
      ]
     },
     "execution_count": 173,
     "metadata": {},
     "output_type": "execute_result"
    }
   ],
   "source": [
    "X_true.columns"
   ]
  },
  {
   "cell_type": "markdown",
   "metadata": {},
   "source": [
    "### Dummy Coding\n",
    "\n",
    "Sebelum menggunakan `Datawig`, kami membuat kode dummy untuk kolom kategorikal."
   ]
  },
  {
   "cell_type": "code",
   "execution_count": 174,
   "metadata": {},
   "outputs": [],
   "source": [
    "# I1: Gender\n",
    "X_true = pd.get_dummies(X_true, columns=['I1'], drop_first=True)"
   ]
  },
  {
   "cell_type": "code",
   "execution_count": 175,
   "metadata": {},
   "outputs": [],
   "source": [
    "# B6: Latest transfer time\n",
    "fmt = '%Y-%m-%d %H:%M:%S'\n",
    "code_datatime(X_true, 'B6', fmt)"
   ]
  },
  {
   "cell_type": "code",
   "execution_count": 176,
   "metadata": {},
   "outputs": [],
   "source": [
    "X_true = X_true.drop('B6', axis=1)"
   ]
  },
  {
   "cell_type": "code",
   "execution_count": 177,
   "metadata": {},
   "outputs": [],
   "source": [
    "# E category\n",
    "fmt = '%Y-%m-%d'\n",
    "col_names = ['E1', 'E2', 'E3', 'E4', 'E5', 'E6', 'E10', 'E14', 'E16', 'E18']\n",
    "for col_name in col_names:\n",
    "    code_datatime(X_true, col_name, fmt)"
   ]
  },
  {
   "cell_type": "code",
   "execution_count": 178,
   "metadata": {},
   "outputs": [],
   "source": [
    "X_true = X_true.drop(col_names, axis=1)"
   ]
  },
  {
   "cell_type": "code",
   "execution_count": 179,
   "metadata": {},
   "outputs": [],
   "source": [
    "enc_df = pd.DataFrame(enc.fit_transform(X_true[cat_col_names]).toarray())"
   ]
  },
  {
   "cell_type": "code",
   "execution_count": 180,
   "metadata": {},
   "outputs": [],
   "source": [
    "X_true_encoded = X_true.join(enc_df)\n",
    "X_true_encoded = X_true_encoded.drop(cat_col_names, axis=1)"
   ]
  },
  {
   "cell_type": "code",
   "execution_count": 181,
   "metadata": {},
   "outputs": [
    {
     "name": "stdout",
     "output_type": "stream",
     "text": [
      "After dummy coding, now the set has 78 columns.\n"
     ]
    }
   ],
   "source": [
    "print('After dummy coding, now the set has {} columns.'.format(X_true_encoded.shape[1]))"
   ]
  },
  {
   "cell_type": "code",
   "execution_count": 182,
   "metadata": {},
   "outputs": [
    {
     "data": {
      "text/plain": [
       "Index(['cust_no',      'X1',      'X2',      'X3',      'X4',      'X5',\n",
       "            'X6',      'X7',      'X8',      'B1',      'B2',      'B3',\n",
       "            'B4',      'B5',      'B7',     'E15',     'E17',      'C1',\n",
       "            'C2',      'I2',      'I4',      'I6',      'I7',     'I11',\n",
       "           'I16',     'I17',     'I18',     'I19',     'I20',   'I1_男性',\n",
       "          'B6_y',    'B6_m',    'B6_d',    'E1_y',    'E1_m',    'E1_d',\n",
       "          'E2_y',    'E2_m',    'E2_d',    'E3_y',    'E3_m',    'E3_d',\n",
       "          'E4_y',    'E4_m',    'E4_d',    'E5_y',    'E5_m',    'E5_d',\n",
       "          'E6_y',    'E6_m',    'E6_d',   'E10_y',   'E10_m',   'E10_d',\n",
       "         'E14_y',   'E14_m',   'E14_d',   'E16_y',   'E16_m',   'E16_d',\n",
       "         'E18_y',   'E18_m',   'E18_d',         0,         1,         2,\n",
       "               3,         4,         5,         6,         7,         8,\n",
       "               9,        10,        11,        12,        13,        14],\n",
       "      dtype='object')"
      ]
     },
     "execution_count": 182,
     "metadata": {},
     "output_type": "execute_result"
    }
   ],
   "source": [
    "X_true_encoded.columns"
   ]
  },
  {
   "cell_type": "markdown",
   "metadata": {},
   "source": [
    "## Output"
   ]
  },
  {
   "cell_type": "code",
   "execution_count": 183,
   "metadata": {},
   "outputs": [],
   "source": [
    "X_encoded.to_csv('../data/X_train.csv', index=False)"
   ]
  },
  {
   "cell_type": "code",
   "execution_count": 184,
   "metadata": {},
   "outputs": [],
   "source": [
    "X_true_encoded.to_csv('../data/X_test.csv', index=False)"
   ]
  },
  {
   "cell_type": "code",
   "execution_count": 185,
   "metadata": {},
   "outputs": [],
   "source": [
    "y.to_csv('../data/y_train.csv', index=False)"
   ]
  },
  {
   "cell_type": "markdown",
   "metadata": {},
   "source": [
    "---"
   ]
  },
  {
   "cell_type": "markdown",
   "metadata": {},
   "source": [
    "## Exploratory Data Analysis (EDA)"
   ]
  },
  {
   "cell_type": "markdown",
   "metadata": {},
   "source": [
    "### Data\n",
    "\n",
    "Data yang kami import adalah:\n",
    "\n",
    "* X_train.csv: berisi semua fitur pada Q3 dan Q4 tahun 2019 untuk pelatihan. Diimport sebagai X.\n",
    "* y_train.csv: berisi variabel label untuk validasi. Diimport sebagai y.\n",
    "* X_test.csv: berisi semua fitur pada Q1 tahun 2020 untuk pengujian. Diimport sebagai X_true.\n",
    "\n",
    "Setelah mengimport data, kami mengonfirmasi bahwa kedua set pelatihan memiliki jumlah record yang sama: **145296**. Kami juga mengonfirmasi bahwa set pengujian memiliki **76722** record.\n"
   ]
  },
  {
   "cell_type": "code",
   "execution_count": 186,
   "metadata": {},
   "outputs": [],
   "source": [
    "import pandas as pd\n",
    "import numpy as np\n",
    "from matplotlib import pyplot as plt\n",
    "from matplotlib.pyplot import figure, GridSpec\n",
    "import seaborn as sns"
   ]
  },
  {
   "cell_type": "code",
   "execution_count": 187,
   "metadata": {},
   "outputs": [],
   "source": [
    "X = pd.read_csv('../data/X_train.csv')\n",
    "y = pd.read_csv('../data/y_train.csv')\n",
    "X_true = pd.read_csv('../data/X_test.csv')"
   ]
  },
  {
   "cell_type": "code",
   "execution_count": 188,
   "metadata": {},
   "outputs": [],
   "source": [
    "X_raw = pd.read_csv('../data/preprocess/X_train.csv')"
   ]
  },
  {
   "cell_type": "code",
   "execution_count": 189,
   "metadata": {},
   "outputs": [
    {
     "name": "stdout",
     "output_type": "stream",
     "text": [
      "The proprocessed train set has 145296 rows and 78 columns.\n",
      "The proprocessed validation set has 145296 rows and 2 columns.\n",
      "The proprocessed test set has 76722 rows and 78 columns.\n"
     ]
    }
   ],
   "source": [
    "print('The proprocessed train set has {} rows and {} columns.'.format(X.shape[0], X.shape[1]))\n",
    "print('The proprocessed validation set has {} rows and {} columns.'.format(y.shape[0], y.shape[1]))\n",
    "print('The proprocessed test set has {} rows and {} columns.'.format(X_true.shape[0], X_true.shape[1]))"
   ]
  },
  {
   "cell_type": "markdown",
   "metadata": {},
   "source": [
    "## Features"
   ]
  },
  {
   "cell_type": "markdown",
   "metadata": {},
   "source": [
    "Pertama, kami memeriksa feature dalam data set train/pelatihan\n",
    "1. Ada 77 features dalam feature set\n",
    "2. Kami memeriksa korelasi antar feature dan label."
   ]
  },
  {
   "cell_type": "markdown",
   "metadata": {},
   "source": [
    "### Dimensions"
   ]
  },
  {
   "cell_type": "code",
   "execution_count": 190,
   "metadata": {},
   "outputs": [
    {
     "data": {
      "text/plain": [
       "(145296, 78)"
      ]
     },
     "execution_count": 190,
     "metadata": {},
     "output_type": "execute_result"
    }
   ],
   "source": [
    "X.shape"
   ]
  },
  {
   "cell_type": "code",
   "execution_count": 191,
   "metadata": {},
   "outputs": [
    {
     "name": "stdout",
     "output_type": "stream",
     "text": [
      "There are 78 columns in the feature set.\n"
     ]
    },
    {
     "data": {
      "text/plain": [
       "Index(['cust_no', 'X1', 'X2', 'X3', 'X4', 'X5', 'X6', 'X7', 'X8', 'B1', 'B2',\n",
       "       'B3', 'B4', 'B5', 'B7', 'E15', 'E17', 'C1', 'C2', 'I2', 'I7', 'I11',\n",
       "       'B6_y', 'B6_m', 'B6_d', 'E1_y', 'E1_m', 'E1_d', 'E2_y', 'E2_m', 'E2_d',\n",
       "       'E3_y', 'E3_m', 'E3_d', 'E4_y', 'E4_m', 'E4_d', 'E5_y', 'E5_m', 'E5_d',\n",
       "       'E6_y', 'E6_m', 'E6_d', 'E10_y', 'E10_m', 'E10_d', 'E14_y', 'E14_m',\n",
       "       'E14_d', 'E16_y', 'E16_m', 'E16_d', 'E18_y', 'E18_m', 'E18_d', 'I1_男性',\n",
       "       'I4_1.0', 'I6_1', 'I16_1.0', 'I17_1', 'I18_1', 'I19_1', 'I20_1', '0',\n",
       "       '1', '2', '3', '4', '5', '6', '7', '8', '9', '10', '11', '12', '13',\n",
       "       '14'],\n",
       "      dtype='object')"
      ]
     },
     "execution_count": 191,
     "metadata": {},
     "output_type": "execute_result"
    }
   ],
   "source": [
    "print('There are {} columns in the feature set.'.format(X.shape[1]))\n",
    "X.columns"
   ]
  },
  {
   "cell_type": "markdown",
   "metadata": {},
   "source": [
    "### Descriptive Analysis"
   ]
  },
  {
   "cell_type": "code",
   "execution_count": 192,
   "metadata": {
    "scrolled": true
   },
   "outputs": [
    {
     "data": {
      "text/plain": [
       "count    1.452960e+05\n",
       "mean     2.177609e+05\n",
       "std      2.181861e+06\n",
       "min      0.000000e+00\n",
       "25%      0.000000e+00\n",
       "50%      0.000000e+00\n",
       "75%      1.200000e+05\n",
       "max      1.918000e+08\n",
       "Name: X1, dtype: float64"
      ]
     },
     "execution_count": 192,
     "metadata": {},
     "output_type": "execute_result"
    }
   ],
   "source": [
    "X['X1'].describe()"
   ]
  },
  {
   "cell_type": "code",
   "execution_count": 193,
   "metadata": {},
   "outputs": [
    {
     "data": {
      "image/png": "[encoded data removed]",
      "text/plain": [
       "<Figure size 576x432 with 1 Axes>"
      ]
     },
     "metadata": {
      "needs_background": "light"
     },
     "output_type": "display_data"
    }
   ],
   "source": [
    "import matplotlib.pyplot as plt\n",
    "\n",
    "# Buat box plot\n",
    "plt.figure(figsize=(8, 6))\n",
    "plt.boxplot(X['X1'], vert=False)\n",
    "plt.title('Box Plot dari Kolom \"Structured Deposit Balance\" (X1)')\n",
    "plt.xlabel('Structured Deposit Balance')\n",
    "plt.show()\n"
   ]
  },
  {
   "cell_type": "markdown",
   "metadata": {},
   "source": [
    "pada kolom structured deposit balance memiliki distribusi yang sangat tidak normal. Rata-rata saldo structured deposit adalah Rp21.776.090, tetapi median dan Q1 adalah Rp0. Ini berarti bahwa ada banyak observasi dengan saldo structured deposit yang sangat kecil atau nol. Nilai saldo structured deposit terbesar adalah Rp1,918,000,000, yang jauh lebih besar dari rata-rata.\n",
    "\n",
    "hal ini dapat diinterpretasikan sebagai :\n",
    "\n",
    "1. Median dan Q1 adalah Rp0. Hal ini menunjukkan bahwa sebagian besar nasabah bank tidak memiliki structured deposit.\n",
    "2. Rata-rata saldo structured deposit adalah Rp21.776.090. Hal ini menunjukkan bahwa nasabah yang memiliki structured deposit memiliki saldo yang cukup besar.\n",
    "3. Nilai saldo structured deposit terbesar adalah Rp1,918,000,000. Hal ini menunjukkan bahwa ada beberapa nasabah yang memiliki saldo structured deposit yang sangat besar."
   ]
  },
  {
   "cell_type": "code",
   "execution_count": 194,
   "metadata": {},
   "outputs": [
    {
     "name": "stderr",
     "output_type": "stream",
     "text": [
      "/var/folders/9_/x4brsl811qz0cd_g1brsx7n40000gn/T/ipykernel_7989/2522730577.py:15: MatplotlibDeprecationWarning: savefig() got unexpected keyword argument \"bbox_tight\" which is no longer supported as of 3.3 and will become an error in 3.6\n",
      "  plt.savefig('../results/structural_savings.png', dpi=100, bbox_tight=True)\n"
     ]
    },
    {
     "data": {
      "image/png": "[encoded data removed]",
      "text/plain": [
       "<Figure size 576x396 with 1 Axes>"
      ]
     },
     "metadata": {},
     "output_type": "display_data"
    }
   ],
   "source": [
    "# Set the seaborn style and color\n",
    "plt.style.use('seaborn')\n",
    "\n",
    "# Create the histogram plot\n",
    "n, bins, patches = plt.hist(x=X['X1'], bins=1000, density=False, color='green')  # Set color to red\n",
    "\n",
    "# Customize the plot\n",
    "plt.xlim(0, 1000000)\n",
    "plt.xlabel('Amount of Structural Savings')\n",
    "plt.ylabel('Count')\n",
    "plt.title('Distribution of Structural Savings')\n",
    "plt.grid(True)\n",
    "\n",
    "# Save and display the plot\n",
    "plt.savefig('../results/structural_savings.png', dpi=100, bbox_tight=True)\n",
    "plt.show()"
   ]
  },
  {
   "cell_type": "code",
   "execution_count": 195,
   "metadata": {
    "scrolled": true
   },
   "outputs": [
    {
     "data": {
      "text/plain": [
       "count    1.452960e+05\n",
       "mean     2.015098e+04\n",
       "std      1.332532e+06\n",
       "min      0.000000e+00\n",
       "25%      0.000000e+00\n",
       "50%      0.000000e+00\n",
       "75%      0.000000e+00\n",
       "max      3.346185e+08\n",
       "Name: X2, dtype: float64"
      ]
     },
     "execution_count": 195,
     "metadata": {},
     "output_type": "execute_result"
    }
   ],
   "source": [
    "X['X2'].describe()"
   ]
  },
  {
   "cell_type": "code",
   "execution_count": 196,
   "metadata": {},
   "outputs": [
    {
     "data": {
      "image/png": "[encoded data removed]",
      "text/plain": [
       "<Figure size 576x432 with 1 Axes>"
      ]
     },
     "metadata": {},
     "output_type": "display_data"
    }
   ],
   "source": [
    "import matplotlib.pyplot as plt\n",
    "\n",
    "# Buat box plot\n",
    "plt.figure(figsize=(8, 6))\n",
    "plt.boxplot(X['X2'], vert=False)\n",
    "plt.title('Box Plot dari Kolom \"Time Deposit Balance\" (X2)')\n",
    "plt.xlabel('Time Deposit Balance')\n",
    "plt.show()"
   ]
  },
  {
   "cell_type": "markdown",
   "metadata": {},
   "source": [
    "Berdasarkan deskripsi statistik, dapat diketahui bahwa kolom time deposit balance memiliki 145.296 nasabah. Rata-rata saldo deposito nasabah adalah Rp201.509.800. Namun, terdapat sebaran data yang sangat besar, dengan standar deviasi mencapai Rp1,33 triliun.\n",
    "\n",
    "Nilai minimum saldo deposito adalah 0, yang menunjukkan bahwa ada beberapa nasabah yang memiliki saldo deposito nol. Nilai kuartil 25, 50, dan 75 adalah 0, yang menunjukkan bahwa sebagian besar nasabah memiliki saldo deposito 0. Artinya, sebagian besar nasabah hanya menggunakan layanan deposito sebagai rekening tabungan biasa.\n",
    "\n",
    "Nilai maksimum saldo deposito adalah Rp3,346 triliun. Nilai ini sangat besar, dan kemungkinan besar merupakan saldo deposito dari nasabah institusi atau perusahaan besar."
   ]
  },
  {
   "cell_type": "code",
   "execution_count": 197,
   "metadata": {
    "scrolled": true
   },
   "outputs": [
    {
     "data": {
      "text/plain": [
       "count    1.452960e+05\n",
       "mean     3.675326e+04\n",
       "std      5.391955e+05\n",
       "min      0.000000e+00\n",
       "25%      3.251000e+01\n",
       "50%      9.701550e+02\n",
       "75%      6.799433e+03\n",
       "max      5.713582e+07\n",
       "Name: X3, dtype: float64"
      ]
     },
     "execution_count": 197,
     "metadata": {},
     "output_type": "execute_result"
    }
   ],
   "source": [
    "X['X3'].describe()"
   ]
  },
  {
   "cell_type": "code",
   "execution_count": 198,
   "metadata": {},
   "outputs": [
    {
     "data": {
      "image/png": "[encoded data removed]",
      "text/plain": [
       "<Figure size 576x432 with 1 Axes>"
      ]
     },
     "metadata": {},
     "output_type": "display_data"
    }
   ],
   "source": [
    "import matplotlib.pyplot as plt\n",
    "\n",
    "# Buat box plot\n",
    "plt.figure(figsize=(8, 6))\n",
    "plt.boxplot(X['X3'], vert=False)\n",
    "plt.title('Box Plot dari Kolom \"Demand Deposit Balance\" (X3)')\n",
    "plt.xlabel('Demand Deposit Balance')\n",
    "plt.show()"
   ]
  },
  {
   "cell_type": "markdown",
   "metadata": {},
   "source": [
    "Berdasarkan deskripsi statistik , kolom demand deposit balance pada industri banking Xiamen Bank International memiliki 145.296 data. Rata-rata saldo demand deposit adalah Rp367.532,60. Variasi saldo demand deposit cukup besar, dengan standar deviasi sebesar Rp5,39 miliar. Nilai minimum saldo demand deposit adalah Rp0, sedangkan nilai maksimumnya adalah Rp5,71 miliar.\n",
    "\n",
    "Berdasarkan data ini, dapat disimpulkan bahwa saldo demand deposit pada industri perbankan Xiamen Bank International memiliki distribusi yang tidak normal. Mayoritas saldo demand deposit memiliki nilai yang sangat rendah, yaitu sekitar Rp0. Namun, ada juga beberapa nasabah yang memiliki saldo demand deposit yang sangat besar, hingga Rp5,71 miliar.\n",
    "\n",
    "Nilai minimum saldo demand deposit yang sama dengan nol menunjukkan bahwa ada beberapa nasabah yang baru saja membuka rekening demand deposit. Nasabah-nasabah ini kemungkinan belum mendepositkan uang mereka ke rekening tersebut.\n",
    "\n",
    "Nilai maksimum saldo demand deposit yang sangat besar menunjukkan bahwa ada beberapa nasabah yang memiliki simpanan demand deposit yang sangat besar. Nasabah-nasabah ini kemungkinan merupakan nasabah diamond\n",
    "\n"
   ]
  },
  {
   "cell_type": "markdown",
   "metadata": {},
   "source": [
    "**Distribusi tabungan struktural** ->  Rata-rata saldo tabungan nasabah adalah 1.564,47. Rata-rata saldo cek nasabah  adalah 3.845,89. (X3)"
   ]
  },
  {
   "cell_type": "code",
   "execution_count": 199,
   "metadata": {
    "scrolled": true
   },
   "outputs": [
    {
     "data": {
      "text/plain": [
       "count    145296.000000\n",
       "mean          1.389722\n",
       "std           7.448130\n",
       "min           0.000000\n",
       "25%           0.000000\n",
       "50%           0.000000\n",
       "75%           1.000000\n",
       "max        1152.000000\n",
       "Name: B2, dtype: float64"
      ]
     },
     "execution_count": 199,
     "metadata": {},
     "output_type": "execute_result"
    }
   ],
   "source": [
    "X['B2'].describe()"
   ]
  },
  {
   "cell_type": "code",
   "execution_count": 200,
   "metadata": {},
   "outputs": [
    {
     "data": {
      "image/png": "[encoded data removed]",
      "text/plain": [
       "<Figure size 576x432 with 1 Axes>"
      ]
     },
     "metadata": {},
     "output_type": "display_data"
    }
   ],
   "source": [
    "import matplotlib.pyplot as plt\n",
    "\n",
    "# Buat box plot\n",
    "plt.figure(figsize=(8, 6))\n",
    "plt.boxplot(X['X3'], vert=False)\n",
    "plt.title('Box Plot dari Kolom \"Transfer-in Times\" (B2)')\n",
    "plt.xlabel('Transfer-in Times')\n",
    "plt.show()"
   ]
  },
  {
   "cell_type": "markdown",
   "metadata": {},
   "source": [
    "Berdasarkan deskripsi statistik , dapat diketahui bahwa kolom transfer-in times di Xiamen Bank International memiliki 145.296 nasabah. Rata-rata waktu transfer masuk adalah 1,39 hari. Namun, terdapat sebaran data yang cukup besar, dengan standar deviasi mencapai 7,45 hari.\n",
    "\n",
    "Nilai minimum waktu transfer masuk adalah 0 hari, yang menunjukkan bahwa ada beberapa nasabah yang berhasil melakukan transfer masuk secara instan. Nilai kuartil 25, 50, dan 75 adalah 0 hari, yang menunjukkan bahwa sebagian besar nasabah berhasil melakukan transfer masuk dalam waktu 0 hari.\n",
    "\n",
    "Nilai maksimum waktu transfer masuk adalah 1152 hari, yang menunjukkan bahwa ada beberapa nasabah yang membutuhkan waktu hingga 3 tahun untuk melakukan transfer masuk.\n",
    "\n",
    "Berdasarkan deskripsi statistik, dapat disimpulkan bahwa waktu transfer masuk di Xiamen Bank International umumnya cepat, dengan rata-rata waktu transfer masuk hanya 1,39 hari. Namun, terdapat beberapa nasabah yang membutuhkan waktu yang lebih lama untuk melakukan transfer masuk."
   ]
  },
  {
   "cell_type": "code",
   "execution_count": 201,
   "metadata": {
    "scrolled": true
   },
   "outputs": [
    {
     "data": {
      "text/plain": [
       "count    1.452960e+05\n",
       "mean     2.378965e+05\n",
       "std      5.134308e+06\n",
       "min      0.000000e+00\n",
       "25%      0.000000e+00\n",
       "50%      0.000000e+00\n",
       "75%      3.850631e+04\n",
       "max      9.072123e+08\n",
       "Name: B3, dtype: float64"
      ]
     },
     "execution_count": 201,
     "metadata": {},
     "output_type": "execute_result"
    }
   ],
   "source": [
    "X['B3'].describe()"
   ]
  },
  {
   "cell_type": "code",
   "execution_count": 202,
   "metadata": {},
   "outputs": [
    {
     "data": {
      "image/png": "[encoded data removed]",
      "text/plain": [
       "<Figure size 576x432 with 1 Axes>"
      ]
     },
     "metadata": {},
     "output_type": "display_data"
    }
   ],
   "source": [
    "import matplotlib.pyplot as plt\n",
    "\n",
    "# Buat box plot\n",
    "plt.figure(figsize=(8, 6))\n",
    "plt.boxplot(X['X3'], vert=False)\n",
    "plt.title('Box Plot dari Kolom \"Transfer-in Money Amount\" (B3)')\n",
    "plt.xlabel('Transfer-in Money Amount')\n",
    "plt.show()"
   ]
  },
  {
   "cell_type": "markdown",
   "metadata": {},
   "source": [
    "Berdasarkan deskripsi statistik, dapat diketahui bahwa kolom transfer-in money amount di Xiamen Bank International memiliki 145.296 nasabah. Rata-rata jumlah uang yang ditransfer masuk adalah Rp2,38 juta. Namun, terdapat sebaran data yang sangat besar, dengan standar deviasi mencapai Rp5,13 miliar.\n",
    "\n",
    "Nilai minimum jumlah uang yang ditransfer masuk adalah Rp0, yang menunjukkan bahwa ada beberapa nasabah yang melakukan transfer masuk dengan jumlah uang nol. Nilai kuartil 25, 50, dan 75 adalah Rp0, yang menunjukkan bahwa sebagian besar nasabah melakukan transfer masuk dengan jumlah uang nol.\n",
    "\n",
    "Nilai maksimum jumlah uang yang ditransfer masuk adalah Rp9,07 miliar, yang menunjukkan bahwa ada beberapa nasabah yang melakukan transfer masuk dengan jumlah uang yang sangat besar.\n",
    "\n",
    "Berdasarkan deskripsi statistik, dapat disimpulkan bahwa jumlah uang yang ditransfer masuk di Xiamen Bank International memiliki distribusi yang sangat tidak normal. Sebagian besar nasabah melakukan transfer masuk dengan jumlah uang nol, sedangkan sebagian kecil nasabah melakukan transfer masuk dengan jumlah uang yang sangat besar.\n",
    "\n"
   ]
  },
  {
   "cell_type": "code",
   "execution_count": 203,
   "metadata": {},
   "outputs": [
    {
     "name": "stderr",
     "output_type": "stream",
     "text": [
      "/var/folders/9_/x4brsl811qz0cd_g1brsx7n40000gn/T/ipykernel_7989/1162472026.py:15: MatplotlibDeprecationWarning: savefig() got unexpected keyword argument \"bbox_tight\" which is no longer supported as of 3.3 and will become an error in 3.6\n",
      "  plt.savefig('../results/monthly_transfer_in.png', dpi=100, bbox_tight=True)\n"
     ]
    },
    {
     "data": {
      "image/png": "[encoded data removed]",
      "text/plain": [
       "<Figure size 576x396 with 1 Axes>"
      ]
     },
     "metadata": {},
     "output_type": "display_data"
    }
   ],
   "source": [
    "# Set the seaborn style and color\n",
    "plt.style.use('seaborn')\n",
    "\n",
    "# Create the histogram plot with red color\n",
    "n, bins, patches = plt.hist(x=X['B3'], bins=1500, density=False, color='green')\n",
    "\n",
    "# Customize the plot\n",
    "plt.xlim(0, 2e6)\n",
    "plt.xlabel('Transfer-in Amount')\n",
    "plt.ylabel('Count')\n",
    "plt.title('Distribution of Transfer-in Amount')\n",
    "plt.grid(True)\n",
    "\n",
    "# Save and display the plot\n",
    "plt.savefig('../results/monthly_transfer_in.png', dpi=100, bbox_tight=True)\n",
    "plt.show()"
   ]
  },
  {
   "cell_type": "markdown",
   "metadata": {},
   "source": [
    "**Distribusi jumlah transfer** -> Berdasarkan data transaksi, rata-rata nasabah melakukan 3X transfer per bulannya. Rata-rata jumlah transfer masuk sebesar 23.729 "
   ]
  },
  {
   "cell_type": "code",
   "execution_count": 204,
   "metadata": {
    "scrolled": true
   },
   "outputs": [
    {
     "data": {
      "text/plain": [
       "count    1.452960e+05\n",
       "mean     3.392470e+05\n",
       "std      2.452089e+06\n",
       "min      0.000000e+00\n",
       "25%      3.367025e+03\n",
       "50%      5.040292e+04\n",
       "75%      2.750003e+05\n",
       "max      2.063346e+08\n",
       "Name: C1, dtype: float64"
      ]
     },
     "execution_count": 204,
     "metadata": {},
     "output_type": "execute_result"
    }
   ],
   "source": [
    "X['C1'].describe()"
   ]
  },
  {
   "cell_type": "code",
   "execution_count": 205,
   "metadata": {},
   "outputs": [
    {
     "data": {
      "image/png": "[encoded data removed]",
      "text/plain": [
       "<Figure size 576x432 with 1 Axes>"
      ]
     },
     "metadata": {},
     "output_type": "display_data"
    }
   ],
   "source": [
    "import matplotlib.pyplot as plt\n",
    "\n",
    "# Buat box plot\n",
    "plt.figure(figsize=(8, 6))\n",
    "plt.boxplot(X['X3'], vert=False)\n",
    "plt.title('Box Plot dari Kolom \"Deposit Products Value\" (C1)')\n",
    "plt.xlabel('Deposit Products Value')\n",
    "plt.show()"
   ]
  },
  {
   "cell_type": "markdown",
   "metadata": {},
   "source": [
    "Berdasarkan deskripsi statistik, dapat diketahui bahwa kolom deposit products value di Xiamen Bank International memiliki 145.296 nasabah. Rata-rata nilai produk deposito adalah Rp3,39 juta. Namun, terdapat sebaran data yang sangat besar, dengan standar deviasi mencapai Rp2,45 miliar.\n",
    "\n",
    "Nilai minimum nilai produk deposito adalah Rp0, yang menunjukkan bahwa ada beberapa nasabah yang memiliki produk deposito dengan nilai nol. Nilai kuartil 25, 50, dan 75 adalah Rp3,36 juta, Rp5,04 juta, dan Rp2,75 miliar, yang menunjukkan bahwa sebagian besar nasabah memiliki produk deposito dengan nilai yang relatif kecil.\n",
    "\n",
    "Nilai maksimum nilai produk deposito adalah Rp2,06 miliar, yang menunjukkan bahwa ada beberapa nasabah yang memiliki produk deposito dengan nilai yang sangat besar.\n",
    "\n",
    "Berdasarkan deksripsi statistik, dapat disimpulkan bahwa nilai produk deposito di Xiamen Bank International memiliki distribusi yang tidak normal. Sebagian besar nasabah memiliki produk deposito dengan nilai yang relatif kecil, sedangkan sebagian kecil nasabah memiliki produk deposito dengan nilai yang sangat besar.\n",
    "\n"
   ]
  },
  {
   "cell_type": "code",
   "execution_count": 206,
   "metadata": {},
   "outputs": [
    {
     "data": {
      "image/png": "[encoded data removed]",
      "text/plain": [
       "<Figure size 576x396 with 1 Axes>"
      ]
     },
     "metadata": {},
     "output_type": "display_data"
    }
   ],
   "source": [
    "# Set the seaborn style and color\n",
    "plt.style.use('seaborn')\n",
    "\n",
    "# Create the histogram plot with red color\n",
    "n, bins, patches = plt.hist(x=X['C1'], bins=1500, density=False, color='green')\n",
    "\n",
    "# Customize the plot\n",
    "plt.xlim(0, 2e6)\n",
    "plt.xlabel('Monthly Assets')\n",
    "plt.ylabel('Count')\n",
    "plt.title('Distribution of Monthly Assets')\n",
    "plt.grid(True)\n",
    "\n",
    "# Save and display the plot\n",
    "plt.savefig('../results/monthly_assets.png', dpi=100, bbox_inches='tight')\n",
    "plt.show()"
   ]
  },
  {
   "cell_type": "markdown",
   "metadata": {},
   "source": [
    "**rata-rata aset nasabah setiap bulannya** adalah 337.523,7 (C1)"
   ]
  },
  {
   "cell_type": "markdown",
   "metadata": {},
   "source": [
    "Berdasarkan informasi pribadi nasabah , dari 145.926 observasi, 78.912 adalah perempuan. 66.320 adalah laki-laki. Usia rata-rata nasabah adalah 49 tahun, dengan standar deviasi 15,95. 71.525 adalah nasabah normal. 54.142 di antaranya adalah gold. 17.996 adalah platinum. 1.633 adalah diamond (tingkat paling teratas). 6.422 (4,42%) terdaftar sebagai karyawan. 27.150 di antaranya bekerja di business industri. Hanya 4,86% di antaranya yang memiliki gelar sarjana (atau lebih)."
   ]
  },
  {
   "cell_type": "markdown",
   "metadata": {},
   "source": [
    "### Correlation"
   ]
  },
  {
   "cell_type": "code",
   "execution_count": 207,
   "metadata": {},
   "outputs": [
    {
     "data": {
      "image/png": "[encoded data removed]",
      "text/plain": [
       "<Figure size 720x576 with 2 Axes>"
      ]
     },
     "metadata": {},
     "output_type": "display_data"
    }
   ],
   "source": [
    "# Merge the datasets\n",
    "Xfull = X_raw.merge(y, how='left', on='cust_no')\n",
    "\n",
    "# Calculate the correlation matrix\n",
    "corrMatrix = Xfull.corr()\n",
    "\n",
    "# Create a mask for the upper triangle\n",
    "mask = np.triu(np.ones_like(corrMatrix, dtype=bool))\n",
    "\n",
    "# Set up the matplotlib figure\n",
    "plt.figure(figsize=(10, 8))\n",
    "\n",
    "# Customize the color palette\n",
    "cmap = sns.diverging_palette(220, 20, as_cmap=True)\n",
    "\n",
    "# Create the heatmap\n",
    "sns.heatmap(corrMatrix, mask=mask, cmap=cmap, center=0,\n",
    "            annot=True, fmt=\".2f\", linewidths=0.5)\n",
    "\n",
    "# Set the title and adjust the layout\n",
    "plt.title('Correlation Matrix', fontsize=16)\n",
    "plt.tight_layout()\n",
    "\n",
    "# Save the plot\n",
    "plt.savefig('../results/correlation_matrix.png', dpi=300)\n",
    "plt.show()"
   ]
  },
  {
   "cell_type": "code",
   "execution_count": null,
   "metadata": {},
   "outputs": [],
   "source": []
  }
 ],
 "metadata": {
  "kernelspec": {
   "display_name": "Python 3 (ipykernel)",
   "language": "python",
   "name": "python3"
  },
  "language_info": {
   "codemirror_mode": {
    "name": "ipython",
    "version": 3
   },
   "file_extension": ".py",
   "mimetype": "text/x-python",
   "name": "python",
   "nbconvert_exporter": "python",
   "pygments_lexer": "ipython3",
   "version": "3.9.12"
  }
 },
 "nbformat": 4,
 "nbformat_minor": 2
}
